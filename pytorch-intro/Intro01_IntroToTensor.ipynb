{
 "cells": [
  {
   "cell_type": "code",
   "execution_count": 1,
   "metadata": {
    "colab": {},
    "colab_type": "code",
    "id": "5TP-KASkXqg2"
   },
   "outputs": [],
   "source": [
    "import torch\n",
    "import numpy as np"
   ]
  },
  {
   "cell_type": "markdown",
   "metadata": {
    "colab_type": "text",
    "id": "mxqMGAhf_kN3",
    "jupyter": {
     "source_hidden": true
    }
   },
   "source": [
    "## Create our first Tensor "
   ]
  },
  {
   "cell_type": "code",
   "execution_count": 2,
   "metadata": {
    "colab": {
     "base_uri": "https://localhost:8080/",
     "height": 119
    },
    "colab_type": "code",
    "id": "Wooi1QBlXt5s",
    "outputId": "2804a762-92f4-436d-dc52-a5cd6f66676e"
   },
   "outputs": [
    {
     "name": "stdout",
     "output_type": "stream",
     "text": [
      "tensor([1, 2, 3])\n",
      "tensor(3)\n",
      "tensor([2, 3])\n",
      "torch.int64\n",
      "torch.LongTensor\n",
      "torch.Size([3])\n",
      "torch.Size([3])\n"
     ]
    }
   ],
   "source": [
    "one_dimension = torch.tensor([1 ,2 ,3])\n",
    "print (one_dimension)\n",
    "print (one_dimension[2])      # return tensor value at index 2\n",
    "print (one_dimension[1:])     # return tensor values from index 1 and beyond\n",
    "print (one_dimension.dtype)   # print the data type of the tensor\n",
    "print (one_dimension.type())  # print the type of the tensor   \n",
    "print (one_dimension.size())  # print the size of the tensor"
   ]
  },
  {
   "cell_type": "markdown",
   "metadata": {
    "colab_type": "text",
    "id": "RUCGBL3V_od7"
   },
   "source": [
    "## FloatTensor() vs. Tensor() vs. tensor()\n",
    "\n",
    "torch.Tensor() is an alias for torch.FloatTensor()"
   ]
  },
  {
   "cell_type": "code",
   "execution_count": null,
   "metadata": {
    "colab": {
     "base_uri": "https://localhost:8080/",
     "height": 204
    },
    "colab_type": "code",
    "id": "ttM7Ym3cZaeI",
    "outputId": "3cb5d6f4-d138-4e25-e713-f6643b60bb6c"
   },
   "outputs": [
    {
     "name": "stdout",
     "output_type": "stream",
     "text": [
      "float_tensor:\n",
      "data type:  torch.float32\n",
      "tensor type:  torch.FloatTensor\n",
      "-------------\n",
      "Tensor:\n",
      "data type:  torch.float32\n",
      "tensor type:  torch.FloatTensor\n",
      "-------------\n",
      "tensor:\n",
      "data type:  torch.int64\n",
      "tensor type:  torch.LongTensor\n"
     ]
    }
   ],
   "source": [
    "float_tensor = torch.FloatTensor([1, 2, 3, 4, 5])\n",
    "# Be Careful: One is capitalized\n",
    "Tensor = torch.Tensor([1, 2, 3, 4, 5])\n",
    "tensor = torch.tensor([1, 2, 3, 4, 5])\n",
    "\n",
    "print (\"float_tensor:\")\n",
    "print (\"data type: \",  float_tensor.dtype)\n",
    "print (\"tensor type: \", float_tensor.type())\n",
    "print (\"-------------\")\n",
    "\n",
    "\n",
    "print (\"Tensor:\")\n",
    "print (\"data type: \",  Tensor.dtype)\n",
    "print (\"tensor type: \", Tensor.type())\n",
    "print (\"-------------\")\n",
    "\n",
    "\n",
    "print (\"tensor:\")\n",
    "print (\"data type: \",  tensor.dtype)\n",
    "print (\"tensor type: \", tensor.type())\n"
   ]
  },
  {
   "cell_type": "markdown",
   "metadata": {},
   "source": [
    "## torch.rand() / torch.randn() / torch.randint()\n",
    "\n",
    "torch.rand(): Returns a tensor filled with random numbers from a uniform distribution on the interval (0, 1]\n",
    "\n",
    "torch.randn(): Returns a tensor filled with randon numbers from a normal distribution with mean 0 and variance 1 returns values between (-1, 1)\n",
    "\n",
    "torch.randint(): Returns a tensor filled with random integers generated uniformly between low and high"
   ]
  },
  {
   "cell_type": "code",
   "execution_count": 10,
   "metadata": {},
   "outputs": [
    {
     "name": "stdout",
     "output_type": "stream",
     "text": [
      "torch.float32\n",
      "tensor([[0.0330, 0.7731, 0.4973],\n",
      "        [0.7459, 0.6601, 0.9984],\n",
      "        [0.9347, 0.7522, 0.9030]], dtype=torch.float64)\n",
      "tensor([[-0.5543,  0.7503],\n",
      "        [ 0.3874, -0.3189],\n",
      "        [ 0.3220, -0.6539]])\n",
      "tensor([[1, 4, 2],\n",
      "        [2, 2, 3],\n",
      "        [2, 1, 1]])\n"
     ]
    }
   ],
   "source": [
    "two_by_three = torch.rand(2, 3)\n",
    "two_by_three_float64 = torch.rand(3,3, dtype=torch.float64) # specify dtype\n",
    "three_by_two = torch.randn(3, 2)\n",
    "three_by_three = torch.randint(0, 5, (3, 3))\n",
    "print (two_by_three.dtype)\n",
    "print (two_by_three_float64 )\n",
    "print (three_by_two)\n",
    "print (three_by_three)"
   ]
  },
  {
   "cell_type": "markdown",
   "metadata": {
    "colab_type": "text",
    "id": "NsChQj2PEl1C"
   },
   "source": [
    "## View()"
   ]
  },
  {
   "cell_type": "markdown",
   "metadata": {},
   "source": [
    "Views share underlying data with its base tensor. If you edit the data in the view, it will be reflected in the base tensor as well."
   ]
  },
  {
   "cell_type": "code",
   "execution_count": null,
   "metadata": {
    "colab": {
     "base_uri": "https://localhost:8080/",
     "height": 187
    },
    "colab_type": "code",
    "id": "3TUpDgDXZe7E",
    "outputId": "e28477c9-a147-44f4-eb96-30b0e00ad54b"
   },
   "outputs": [
    {
     "name": "stdout",
     "output_type": "stream",
     "text": [
      "tensor([1, 2, 3, 4, 5, 6])\n",
      "tensor([[1],\n",
      "        [2],\n",
      "        [3],\n",
      "        [4],\n",
      "        [5],\n",
      "        [6]])\n",
      "tensor([[1, 2],\n",
      "        [3, 4],\n",
      "        [5, 6]])\n"
     ]
    }
   ],
   "source": [
    "one_row_six_column = torch.tensor([1, 2, 3, 4, 5, 6])\n",
    "print (one_row_six_column)\n",
    "\n",
    "six_row_one_column = one_row_six_column.view(6, 1)\n",
    "print (six_row_one_column)\n",
    "\n",
    "three_row_two_column = one_row_six_column.view(3, 2)\n",
    "print (three_row_two_column)"
   ]
  },
  {
   "cell_type": "markdown",
   "metadata": {
    "colab_type": "text",
    "id": "Xjg07FGKEsXc"
   },
   "source": [
    "## View(X, -1)\n",
    "If the second argument is -1,  the value will be inferred with the size of the tensor."
   ]
  },
  {
   "cell_type": "code",
   "execution_count": null,
   "metadata": {
    "colab": {
     "base_uri": "https://localhost:8080/",
     "height": 68
    },
    "colab_type": "code",
    "id": "P1VbJiD-Zl3L",
    "outputId": "311a8a7a-fbed-4345-ba2d-a31e8aa459db"
   },
   "outputs": [
    {
     "name": "stdout",
     "output_type": "stream",
     "text": [
      "tensor([[1, 2],\n",
      "        [3, 4],\n",
      "        [5, 6]])\n"
     ]
    }
   ],
   "source": [
    "one_row_six_column = torch.tensor([1, 2, 3, 4, 5, 6])\n",
    "\n",
    "three_row = one_row_six_column.view(3, -1) \n",
    "# since one_row_six_column.size() = 6 \n",
    "# three_row  row number is 3, so the column number being calcuated 6/3 = 2\n",
    "\n",
    "print (three_row)"
   ]
  },
  {
   "cell_type": "markdown",
   "metadata": {
    "colab_type": "text",
    "id": "TZjycK2EEx6o"
   },
   "source": [
    "## Conversion between NumPy and Tensor"
   ]
  },
  {
   "cell_type": "code",
   "execution_count": 11,
   "metadata": {
    "colab": {
     "base_uri": "https://localhost:8080/",
     "height": 68
    },
    "colab_type": "code",
    "id": "SW1oRIZQZuBd",
    "outputId": "c1ebeedc-6570-43c1-bd6e-aac5ee4737c5"
   },
   "outputs": [
    {
     "name": "stdout",
     "output_type": "stream",
     "text": [
      "type of np_rabbit:  <class 'numpy.ndarray'>\n",
      "type of tensor_rabbit:  <class 'torch.Tensor'>\n",
      "type of back_to_np_rabbit:  <class 'numpy.ndarray'>\n"
     ]
    }
   ],
   "source": [
    "np_rabbit = np.array([1, 2, 3, 4, 5])\n",
    "\n",
    "# Convert np array to tensor \n",
    "tensor_rabbit = torch.from_numpy(np_rabbit)\n",
    "\n",
    "print (\"type of np_rabbit: \", type(np_rabbit))\n",
    "print (\"type of tensor_rabbit: \", type(tensor_rabbit))\n",
    "\n",
    "# Convert tensor to numpy\n",
    "back_to_np_rabbit = tensor_rabbit.numpy()\n",
    "print (\"type of back_to_np_rabbit: \", type(back_to_np_rabbit))"
   ]
  }
 ],
 "metadata": {
  "colab": {
   "collapsed_sections": [],
   "name": "pytorch1-IntroToTensor.ipynb",
   "provenance": []
  },
  "kernelspec": {
   "display_name": "Python 3",
   "language": "python",
   "name": "python3"
  },
  "language_info": {
   "codemirror_mode": {
    "name": "ipython",
    "version": 3
   },
   "file_extension": ".py",
   "mimetype": "text/x-python",
   "name": "python",
   "nbconvert_exporter": "python",
   "pygments_lexer": "ipython3",
   "version": "3.8.3"
  }
 },
 "nbformat": 4,
 "nbformat_minor": 4
}
