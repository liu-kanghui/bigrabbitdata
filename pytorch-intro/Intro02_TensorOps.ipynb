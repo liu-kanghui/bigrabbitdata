{
 "cells": [
  {
   "cell_type": "code",
   "execution_count": 5,
   "metadata": {
    "colab": {},
    "colab_type": "code",
    "id": "meEyTAtMWItG"
   },
   "outputs": [],
   "source": [
    "import torch"
   ]
  },
  {
   "cell_type": "markdown",
   "metadata": {
    "colab_type": "text",
    "id": "8thNasBpFL09"
   },
   "source": [
    "## Add "
   ]
  },
  {
   "cell_type": "code",
   "execution_count": 11,
   "metadata": {
    "colab": {
     "base_uri": "https://localhost:8080/",
     "height": 34
    },
    "colab_type": "code",
    "id": "DEZwtsZFWKsS",
    "outputId": "3bef8ddc-6646-48b1-ebdd-e971ed13b828"
   },
   "outputs": [
    {
     "name": "stdout",
     "output_type": "stream",
     "text": [
      "tensor([ 2,  4,  6,  8, 10])\n",
      "tensor([1, 2, 3, 4, 5])\n",
      "tensor([ 2,  4,  6,  8, 10])\n",
      "tensor([ 2,  4,  6,  8, 10])\n",
      "tensor([ 2,  4,  6,  8, 10])\n"
     ]
    }
   ],
   "source": [
    "# add two tensors\n",
    "tensor_one = torch.tensor([1, 2, 3, 4, 5])\n",
    "tensor_two = torch.tensor([1, 2, 3, 4, 5])\n",
    "tensor_add = tensor_one + tensor_two\n",
    "print (tensor_one + tensor_two)\n",
    "print (tensor_one)\n",
    "print (torch.add(tensor_one, tensor_two)) # torch.add(a, b) is the same as a + b\n",
    "print (tensor_one.add_(tensor_two))       # In place add,  in most case don't use this.\n",
    "print (tensor_one)                        # tensor_one is modified as a result"
   ]
  },
  {
   "cell_type": "markdown",
   "metadata": {
    "colab_type": "text",
    "id": "vDvG06ejFPVF"
   },
   "source": [
    "## Multiply * two tensors"
   ]
  },
  {
   "cell_type": "code",
   "execution_count": 13,
   "metadata": {
    "colab": {
     "base_uri": "https://localhost:8080/",
     "height": 34
    },
    "colab_type": "code",
    "id": "jxnhLSIJW1Ch",
    "outputId": "e1479231-934a-402a-96cf-71bed8a69080"
   },
   "outputs": [
    {
     "name": "stdout",
     "output_type": "stream",
     "text": [
      "tensor([ 1,  4,  9, 16, 25])\n",
      "tensor([ 1,  4,  9, 16, 25])\n",
      "tensor([ 1,  4,  9, 16, 25])\n",
      "tensor([ 1,  4,  9, 16, 25])\n"
     ]
    }
   ],
   "source": [
    "# * two tensors\n",
    "tensor_one = torch.tensor([1, 2, 3, 4, 5])\n",
    "print (tensor_one * tensor_two)\n",
    "print (torch.mul(tensor_one, tensor_two))\n",
    "print (tensor_one.mul_(tensor_two))      # in place multiplicaiton\n",
    "print (tensor_one)"
   ]
  },
  {
   "cell_type": "markdown",
   "metadata": {
    "colab_type": "text",
    "id": "0Nfj3gK9FXtN"
   },
   "source": [
    "## Multiply by a scalar"
   ]
  },
  {
   "cell_type": "code",
   "execution_count": null,
   "metadata": {
    "colab": {
     "base_uri": "https://localhost:8080/",
     "height": 34
    },
    "colab_type": "code",
    "id": "S5arrro2Xpfi",
    "outputId": "0820a659-84a0-4431-decb-8b8f8f657cff"
   },
   "outputs": [
    {
     "data": {
      "text/plain": [
       "tensor([ 3,  6,  9, 12, 15])"
      ]
     },
     "execution_count": 6,
     "metadata": {
      "tags": []
     },
     "output_type": "execute_result"
    }
   ],
   "source": [
    "# * tensor by a scalar\n",
    "tensor_mul_scalar = tensor_one * 3\n",
    "tensor_mul_scalar"
   ]
  },
  {
   "cell_type": "markdown",
   "metadata": {
    "colab_type": "text",
    "id": "BQS5IynGGGZk"
   },
   "source": [
    "## Dot Product "
   ]
  },
  {
   "cell_type": "code",
   "execution_count": null,
   "metadata": {
    "colab": {
     "base_uri": "https://localhost:8080/",
     "height": 34
    },
    "colab_type": "code",
    "id": "Hv-zaF4wYLiK",
    "outputId": "2c010893-0686-4410-b2fc-3595d046e149"
   },
   "outputs": [
    {
     "name": "stdout",
     "output_type": "stream",
     "text": [
      "tensor(55)\n"
     ]
    }
   ],
   "source": [
    "# Dot Product for 1d array\n",
    "dot_product = torch.dot(tensor_one, tensor_two)\n",
    "print (dot_product)"
   ]
  },
  {
   "cell_type": "markdown",
   "metadata": {
    "colab_type": "text",
    "id": "BzVdo7RUZv5Z"
   },
   "source": [
    "## Matrix Multiplication"
   ]
  },
  {
   "cell_type": "code",
   "execution_count": null,
   "metadata": {
    "colab": {
     "base_uri": "https://localhost:8080/",
     "height": 51
    },
    "colab_type": "code",
    "id": "yF5_cKa5MSqN",
    "outputId": "c53e35d0-7bd3-489f-dd41-d6b257581aeb"
   },
   "outputs": [
    {
     "name": "stdout",
     "output_type": "stream",
     "text": [
      "tensor([[22, 28],\n",
      "        [49, 64]])\n"
     ]
    }
   ],
   "source": [
    "tensor_one = torch.tensor([1, 2, 3, 4, 5, 6]).view(2, 3)\n",
    "tensor_two = torch.tensor([1, 2, 3, 4, 5, 6]).view(3, 2)\n",
    "\n",
    "matrix_mul = torch.matmul(tensor_one, tensor_two)\n",
    "print (matrix_mul)"
   ]
  },
  {
   "cell_type": "code",
   "execution_count": null,
   "metadata": {
    "colab": {
     "base_uri": "https://localhost:8080/",
     "height": 51
    },
    "colab_type": "code",
    "id": "0xUIbjw-MmIG",
    "outputId": "ba8b7a40-f2c2-4127-88bb-3d17b0335191"
   },
   "outputs": [
    {
     "data": {
      "text/plain": [
       "tensor([[22, 28],\n",
       "        [49, 64]])"
      ]
     },
     "execution_count": 9,
     "metadata": {
      "tags": []
     },
     "output_type": "execute_result"
    }
   ],
   "source": [
    "tensor_one @ tensor_two   # same with torch.matmul"
   ]
  }
 ],
 "metadata": {
  "colab": {
   "collapsed_sections": [],
   "name": "Pytorch2_Tensor_Operations.ipynb",
   "provenance": [],
   "toc_visible": true
  },
  "kernelspec": {
   "display_name": "Python 3",
   "language": "python",
   "name": "python3"
  },
  "language_info": {
   "codemirror_mode": {
    "name": "ipython",
    "version": 3
   },
   "file_extension": ".py",
   "mimetype": "text/x-python",
   "name": "python",
   "nbconvert_exporter": "python",
   "pygments_lexer": "ipython3",
   "version": "3.8.3"
  }
 },
 "nbformat": 4,
 "nbformat_minor": 4
}
