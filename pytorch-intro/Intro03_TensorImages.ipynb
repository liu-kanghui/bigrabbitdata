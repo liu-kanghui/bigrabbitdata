{
 "cells": [
  {
   "cell_type": "code",
   "execution_count": 1,
   "metadata": {
    "colab": {},
    "colab_type": "code",
    "id": "uUcRit6O1wZH"
   },
   "outputs": [],
   "source": [
    "import random\n",
    "import torch\n",
    "import matplotlib.pyplot as plt\n",
    "import numpy as np\n",
    "from torchvision.transforms import ToTensor, ToPILImage"
   ]
  },
  {
   "cell_type": "markdown",
   "metadata": {
    "colab_type": "text",
    "id": "yP_swopSf2Vi"
   },
   "source": [
    "##Generate a grayscale image"
   ]
  },
  {
   "cell_type": "code",
   "execution_count": 9,
   "metadata": {
    "colab": {
     "base_uri": "https://localhost:8080/",
     "height": 267
    },
    "colab_type": "code",
    "id": "Nhzx-sxk2XFX",
    "outputId": "dfadbec5-ea55-471b-9743-006fade614b9"
   },
   "outputs": [
    {
     "name": "stdout",
     "output_type": "stream",
     "text": [
      "[[252 191 171 ...  71  96  58]\n",
      " [147  78 120 ...  50 118 108]\n",
      " [110 207 235 ...  58  63 178]\n",
      " ...\n",
      " [248 148 248 ...  14 164  37]\n",
      " [186 228  48 ... 241 114  33]\n",
      " [109 128 210 ... 218 165 141]]\n"
     ]
    },
    {
     "data": {
      "image/png": "[encoded data removed]",
      "text/plain": [
       "<Figure size 432x288 with 1 Axes>"
      ]
     },
     "metadata": {
      "needs_background": "light"
     },
     "output_type": "display_data"
    }
   ],
   "source": [
    "flat_image = np.array([random.randint(0, 255) for i in range(2500)])\n",
    "square_image = flat_image.reshape(50,50)\n",
    "print (square_image)\n",
    "\n",
    "\n",
    "# Because plt is displaying a color image (3 dimensions) by default, \n",
    "# since our square image is 2 dimension, it will auto-fill it to 3 dimension\n",
    "# by default. \n",
    "# So we need to specify that we want it to display a 'grey' image.\n",
    "plt.imshow(square_image, cmap=\"gray\")\n",
    "plt.show()"
   ]
  },
  {
   "cell_type": "markdown",
   "metadata": {
    "colab_type": "text",
    "id": "D4PZt7q-EOLM"
   },
   "source": [
    "## Convert np array to Tensor\n",
    "\n",
    "torch.from_numpy() automatically inherits input array dtype.\n",
    "torch.Tensor(), output tensor is float tenor"
   ]
  },
  {
   "cell_type": "code",
   "execution_count": 5,
   "metadata": {
    "colab": {
     "base_uri": "https://localhost:8080/",
     "height": 51
    },
    "colab_type": "code",
    "id": "E3BU_ZtJ3qyr",
    "outputId": "0727c22f-bbac-4faa-df46-a9d55a478f31"
   },
   "outputs": [
    {
     "name": "stdout",
     "output_type": "stream",
     "text": [
      "<class 'numpy.ndarray'>\n",
      "<class 'torch.Tensor'>\n",
      "torch.float32\n",
      "<class 'torch.Tensor'>\n",
      "torch.int32\n"
     ]
    }
   ],
   "source": [
    "print (type(square_image))\n",
    "tensor_square_image = torch.Tensor(square_image)\n",
    "print (type(tensor_square_image))\n",
    "print (tensor_square_image.dtype)\n",
    "from_numpy = torch.from_numpy(square_image)\n",
    "print (type(from_numpy))\n",
    "print (from_numpy.dtype)"
   ]
  },
  {
   "cell_type": "markdown",
   "metadata": {
    "colab_type": "text",
    "id": "zoBqw1XXgHjf"
   },
   "source": [
    "## Convert tensor to PIL Image"
   ]
  },
  {
   "cell_type": "code",
   "execution_count": 8,
   "metadata": {
    "colab": {
     "base_uri": "https://localhost:8080/",
     "height": 34
    },
    "colab_type": "code",
    "id": "DVXHOFTL2O8Y",
    "outputId": "70a4b2bc-05f7-4ecc-cfec-d38b6bb14200"
   },
   "outputs": [
    {
     "name": "stdout",
     "output_type": "stream",
     "text": [
      "<class 'PIL.Image.Image'>\n",
      "<PIL.Image.Image image mode=L size=50x50 at 0x29C0E9158B0>\n"
     ]
    }
   ],
   "source": [
    "pil_image = ToPILImage()(tensor_square_image)\n",
    "print (type(pil_image))"
   ]
  },
  {
   "cell_type": "markdown",
   "metadata": {
    "colab_type": "text",
    "id": "Kbd2Td-1gMXe"
   },
   "source": [
    "## Convert PIL image to tensor"
   ]
  },
  {
   "cell_type": "code",
   "execution_count": 7,
   "metadata": {
    "colab": {
     "base_uri": "https://localhost:8080/",
     "height": 34
    },
    "colab_type": "code",
    "id": "kElKuErh9SME",
    "outputId": "58773cfd-76a6-468a-b11e-8cc52de3e2c4"
   },
   "outputs": [
    {
     "name": "stdout",
     "output_type": "stream",
     "text": [
      "tensor([[[0.7804, 0.5608, 0.5922,  ..., 0.5961, 0.1176, 0.4863],\n",
      "         [0.1608, 0.1608, 0.4196,  ..., 0.9020, 0.8706, 0.8549],\n",
      "         [0.8314, 0.6549, 0.6353,  ..., 0.5843, 0.8353, 0.9725],\n",
      "         ...,\n",
      "         [0.1647, 0.6275, 0.2078,  ..., 0.4471, 0.3412, 0.6706],\n",
      "         [0.6039, 0.9216, 0.4039,  ..., 0.6078, 0.4353, 0.4980],\n",
      "         [0.3333, 0.8000, 0.9176,  ..., 0.2353, 0.1961, 0.5373]]])\n",
      "<class 'torch.Tensor'>\n"
     ]
    }
   ],
   "source": [
    "back_to_tensor_image = ToTensor()(pil_image)\n",
    "print (back_to_tensor_image)\n",
    "print (type(back_to_tensor_image))"
   ]
  },
  {
   "cell_type": "code",
   "execution_count": null,
   "metadata": {},
   "outputs": [],
   "source": []
  }
 ],
 "metadata": {
  "colab": {
   "name": "Pytorc3_Tensor_and_Images.ipynb",
   "provenance": []
  },
  "kernelspec": {
   "display_name": "Python 3",
   "language": "python",
   "name": "python3"
  },
  "language_info": {
   "codemirror_mode": {
    "name": "ipython",
    "version": 3
   },
   "file_extension": ".py",
   "mimetype": "text/x-python",
   "name": "python",
   "nbconvert_exporter": "python",
   "pygments_lexer": "ipython3",
   "version": "3.8.3"
  }
 },
 "nbformat": 4,
 "nbformat_minor": 4
}
