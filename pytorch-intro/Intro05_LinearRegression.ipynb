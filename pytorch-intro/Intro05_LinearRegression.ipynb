{
 "cells": [
  {
   "cell_type": "code",
   "execution_count": null,
   "metadata": {
    "colab": {},
    "colab_type": "code",
    "id": "HNHKEoZ01Ll-"
   },
   "outputs": [],
   "source": [
    "import torch\n",
    "from torch.nn import Linear\n",
    "import torch.nn as nn\n",
    "import matplotlib.pyplot as plt\n",
    "import numpy as np"
   ]
  },
  {
   "cell_type": "markdown",
   "metadata": {
    "colab_type": "text",
    "id": "hXj6cXjh2AGH"
   },
   "source": [
    "## Make Predictions"
   ]
  },
  {
   "cell_type": "markdown",
   "metadata": {
    "colab_type": "text",
    "id": "JN8-5qOg0cwN"
   },
   "source": [
    "y = 5x + 1"
   ]
  },
  {
   "cell_type": "code",
   "execution_count": null,
   "metadata": {
    "colab": {},
    "colab_type": "code",
    "id": "xsg5O-KzDhiy"
   },
   "outputs": [],
   "source": [
    "m = torch.tensor(5.0, requires_grad=True)\n",
    "b = torch.tensor(1.0, requires_grad=True)"
   ]
  },
  {
   "cell_type": "code",
   "execution_count": null,
   "metadata": {
    "colab": {},
    "colab_type": "code",
    "id": "q3_AEcSKMzrx"
   },
   "outputs": [],
   "source": [
    "def forward(x):\n",
    "  y = m*x + b\n",
    "  return y"
   ]
  },
  {
   "cell_type": "markdown",
   "metadata": {
    "colab_type": "text",
    "id": "tQjBevJF2RfL"
   },
   "source": [
    "### Pass one input"
   ]
  },
  {
   "cell_type": "code",
   "execution_count": null,
   "metadata": {
    "colab": {
     "base_uri": "https://localhost:8080/",
     "height": 34
    },
    "colab_type": "code",
    "id": "uAPlgs_KM3fQ",
    "outputId": "d68c3769-3721-4f61-94f1-aea64420d5e1"
   },
   "outputs": [
    {
     "name": "stdout",
     "output_type": "stream",
     "text": [
      "tensor(16., grad_fn=<AddBackward0>)\n"
     ]
    }
   ],
   "source": [
    "x = torch.tensor(3)\n",
    "print (forward(x))   # 3 * 5 + 1"
   ]
  },
  {
   "cell_type": "markdown",
   "metadata": {
    "colab_type": "text",
    "id": "i1Txruip2VXk"
   },
   "source": [
    "### Pass in an array"
   ]
  },
  {
   "cell_type": "code",
   "execution_count": null,
   "metadata": {
    "colab": {
     "base_uri": "https://localhost:8080/",
     "height": 51
    },
    "colab_type": "code",
    "id": "LsDnxtx3M6pX",
    "outputId": "5f193c06-f8d5-4e61-991f-65f66faef541"
   },
   "outputs": [
    {
     "name": "stdout",
     "output_type": "stream",
     "text": [
      "tensor([ 6., 11., 16., 21., 26.], grad_fn=<AddBackward0>)\n",
      "tensor([ 6., 11., 16., 21., 26.], grad_fn=<AddBackward0>)\n"
     ]
    }
   ],
   "source": [
    "x = torch.tensor([1, 2, 3, 4, 5])\n",
    "print (forward(x))"
   ]
  },
  {
   "cell_type": "markdown",
   "metadata": {
    "colab_type": "text",
    "id": "Iq0Zcjp-Dhp8"
   },
   "source": [
    "## torch.nn.Linear"
   ]
  },
  {
   "cell_type": "code",
   "execution_count": null,
   "metadata": {
    "colab": {
     "base_uri": "https://localhost:8080/",
     "height": 153
    },
    "colab_type": "code",
    "id": "9dOT-waCLtoj",
    "outputId": "c9387913-3b70-462e-882f-716592b627f7"
   },
   "outputs": [
    {
     "name": "stdout",
     "output_type": "stream",
     "text": [
      "weight Parameter containing:\n",
      "tensor([[-0.6232]], requires_grad=True)\n",
      "bias Parameter containing:\n",
      "tensor([-0.5454], requires_grad=True)\n",
      "weight Parameter containing:\n",
      "tensor([[0.8149]], requires_grad=True)\n",
      "bias Parameter containing:\n",
      "tensor([0.6399], requires_grad=True)\n"
     ]
    }
   ],
   "source": [
    "# our x has only one feature and y has only one feature.\n",
    "model = Linear(in_features=1, out_features=1)\n",
    "\n",
    "print(\"weight\", model.weight)\n",
    "print(\"bias\", model.bias)"
   ]
  },
  {
   "cell_type": "code",
   "execution_count": null,
   "metadata": {
    "colab": {
     "base_uri": "https://localhost:8080/",
     "height": 153
    },
    "colab_type": "code",
    "id": "CghbHtuZm8xp",
    "outputId": "87874f04-6e74-41d9-c86e-1c7ac565d8ce"
   },
   "outputs": [
    {
     "name": "stdout",
     "output_type": "stream",
     "text": [
      "weight Parameter containing:\n",
      "tensor([[0.6605]], requires_grad=True)\n",
      "bias Parameter containing:\n",
      "tensor([-0.7478], requires_grad=True)\n",
      "weight Parameter containing:\n",
      "tensor([[0.6605]], requires_grad=True)\n",
      "bias Parameter containing:\n",
      "tensor([-0.7478], requires_grad=True)\n"
     ]
    }
   ],
   "source": [
    "torch.manual_seed(5)\n",
    "model = Linear(in_features=1, out_features=1)\n",
    "print(\"weight\", model.weight)\n",
    "print(\"bias\", model.bias)"
   ]
  },
  {
   "cell_type": "markdown",
   "metadata": {
    "colab_type": "text",
    "id": "dHJOEgCNm3UY"
   },
   "source": [
    "###  Make Predictions with Model(X)"
   ]
  },
  {
   "cell_type": "code",
   "execution_count": null,
   "metadata": {
    "colab": {
     "base_uri": "https://localhost:8080/",
     "height": 221
    },
    "colab_type": "code",
    "id": "Ey3J11OoveAa",
    "outputId": "e9cddf1b-c37a-42ec-f4de-ce88c261d92b"
   },
   "outputs": [
    {
     "name": "stdout",
     "output_type": "stream",
     "text": [
      "tensor([2.5547], grad_fn=<AddBackward0>)\n",
      "tensor([[-0.0873],\n",
      "        [ 0.5732],\n",
      "        [ 1.2337],\n",
      "        [ 1.8942],\n",
      "        [ 2.5547]], grad_fn=<AddmmBackward>)\n",
      "tensor([2.5547], grad_fn=<AddBackward0>)\n",
      "tensor([[-0.0873],\n",
      "        [ 0.5732],\n",
      "        [ 1.2337],\n",
      "        [ 1.8942],\n",
      "        [ 2.5547]], grad_fn=<AddmmBackward>)\n"
     ]
    }
   ],
   "source": [
    "x = torch.tensor([5.0])\n",
    "print (model(x))\n",
    "\n",
    "x = torch.tensor([[1.0], [2.0], [3.0], [4.0], [5.0]])\n",
    "print (model(x))"
   ]
  },
  {
   "cell_type": "markdown",
   "metadata": {
    "colab_type": "text",
    "id": "1rJYLrFt2y-T"
   },
   "source": [
    "## Creat our model\n"
   ]
  },
  {
   "cell_type": "code",
   "execution_count": null,
   "metadata": {
    "colab": {},
    "colab_type": "code",
    "id": "MzQg8sjq5g4e"
   },
   "outputs": [],
   "source": [
    "class LinearRegression(nn.Module):\n",
    "  def __init__(self, in_features, out_features):\n",
    "    super().__init__()\n",
    "    self.linear = nn.Linear(in_features, out_features)\n",
    "\n",
    "  def forward(self, x):\n",
    "    prediction = self.linear(x)\n",
    "    return prediction"
   ]
  },
  {
   "cell_type": "markdown",
   "metadata": {
    "colab_type": "text",
    "id": "TJ4VAxBe1LSg"
   },
   "source": [
    "## Define our model"
   ]
  },
  {
   "cell_type": "code",
   "execution_count": null,
   "metadata": {
    "colab": {
     "base_uri": "https://localhost:8080/",
     "height": 119
    },
    "colab_type": "code",
    "id": "JXxVtvLU59sp",
    "outputId": "46942394-190c-42f1-be25-9e97f5cb8b48"
   },
   "outputs": [
    {
     "name": "stdout",
     "output_type": "stream",
     "text": [
      "LinearRegression(\n",
      "  (linear): Linear(in_features=1, out_features=1, bias=True)\n",
      ")\n",
      "[Parameter containing:\n",
      "tensor([[-0.0075]], requires_grad=True), Parameter containing:\n",
      "tensor([0.5364], requires_grad=True)]\n"
     ]
    }
   ],
   "source": [
    "torch.manual_seed(0)\n",
    "model = LinearRegression(1, 1)\n",
    "print (model)\n",
    "print (list(model.parameters()))"
   ]
  },
  {
   "cell_type": "markdown",
   "metadata": {
    "colab_type": "text",
    "id": "ZqyYVAKe5fVh"
   },
   "source": [
    "##  Generate Dataset"
   ]
  },
  {
   "cell_type": "code",
   "execution_count": null,
   "metadata": {
    "colab": {
     "base_uri": "https://localhost:8080/",
     "height": 298
    },
    "colab_type": "code",
    "id": "pfcxv08Gk2WK",
    "outputId": "60a57a7c-7940-45eb-f889-24f735f06a41"
   },
   "outputs": [
    {
     "data": {
      "text/plain": [
       "Text(0, 0.5, 'y')"
      ]
     },
     "execution_count": 20,
     "metadata": {
      "tags": []
     },
     "output_type": "execute_result"
    },
    {
     "data": {
      "image/png": "[encoded data removed]",
      "text/plain": [
       "<Figure size 432x288 with 1 Axes>"
      ]
     },
     "metadata": {
      "needs_background": "light",
      "tags": []
     },
     "output_type": "display_data"
    }
   ],
   "source": [
    "x = torch.randn(100, 1) * 10\n",
    "y = x + 5 * torch.randn(100, 1)\n",
    "plt.plot(x, y, 'o')\n",
    "plt.xlabel('x')\n",
    "plt.ylabel('y')\n"
   ]
  },
  {
   "cell_type": "markdown",
   "metadata": {
    "colab_type": "text",
    "id": "ICRaPZrrE31Y"
   },
   "source": [
    "# Plot the fitted line"
   ]
  },
  {
   "cell_type": "markdown",
   "metadata": {
    "colab_type": "text",
    "id": "wNLRgCsqv6uW"
   },
   "source": [
    "Extract model parameter"
   ]
  },
  {
   "cell_type": "code",
   "execution_count": null,
   "metadata": {
    "colab": {
     "base_uri": "https://localhost:8080/",
     "height": 265
    },
    "colab_type": "code",
    "id": "_I2lgQDc662G",
    "outputId": "d759d3e1-3187-43f7-ab70-ff69706f6f25"
   },
   "outputs": [
    {
     "data": {
      "image/png": "[encoded data removed]",
      "text/plain": [
       "<Figure size 432x288 with 1 Axes>"
      ]
     },
     "metadata": {
      "needs_background": "light",
      "tags": []
     },
     "output_type": "display_data"
    }
   ],
   "source": [
    "[w, b] = model.parameters()   # model = LinearRegression(1, 1)\n",
    "\n",
    "# extract the number of weight and bias.\n",
    "def get_parameters():\n",
    "  return w[0][0].item(), b[0].item()\n",
    "\n",
    "def plot_line():\n",
    "  w1, b1 = get_parameters()\n",
    "  x1 = np.array([-30, 30])\n",
    "  y1 = w1*x1 + b1\n",
    "  plt.plot(x1, y1, color='orange')  \n",
    "  plt.scatter(x, y)\n",
    "  plt.show()\n",
    "\n",
    "plot_line() # the orange line is the random line created with nn.Linear(1, 1)"
   ]
  },
  {
   "cell_type": "code",
   "execution_count": null,
   "metadata": {
    "colab": {
     "base_uri": "https://localhost:8080/",
     "height": 267
    },
    "colab_type": "code",
    "id": "ctnTY9qjFcDE",
    "outputId": "501deaa8-51eb-463b-cc69-d155d5569d68"
   },
   "outputs": [
    {
     "data": {
      "image/png": "[encoded data removed]",
      "text/plain": [
       "<Figure size 432x288 with 1 Axes>"
      ]
     },
     "metadata": {
      "needs_background": "light",
      "tags": []
     },
     "output_type": "display_data"
    }
   ],
   "source": []
  },
  {
   "cell_type": "markdown",
   "metadata": {
    "colab_type": "text",
    "id": "E3oCtFFw0c0S"
   },
   "source": [
    "## Training in action"
   ]
  },
  {
   "cell_type": "code",
   "execution_count": null,
   "metadata": {
    "colab": {},
    "colab_type": "code",
    "id": "pnACwtfaNbxA"
   },
   "outputs": [],
   "source": [
    "criterion = nn.MSELoss()\n",
    "optimizer = torch.optim.SGD(model.parameters(), lr = 0.01)\n",
    "\n",
    "epochs = 100\n",
    "losses = []\n",
    "\n",
    "for i in range(epochs):\n",
    "  optimizer.zero_grad()\n",
    "  output = model(x)\n",
    "  loss = criterion(output, y)\n",
    "  \n",
    "  losses.append(loss)\n",
    "  \n",
    "  loss.backward()\n",
    "  optimizer.step()\n",
    "\n",
    "\n"
   ]
  },
  {
   "cell_type": "code",
   "execution_count": null,
   "metadata": {
    "colab": {
     "base_uri": "https://localhost:8080/",
     "height": 296
    },
    "colab_type": "code",
    "id": "jTg4TIvoOdfr",
    "outputId": "ce69b275-e8e1-4227-be98-ca9469625898"
   },
   "outputs": [
    {
     "data": {
      "text/plain": [
       "Text(0.5, 0, 'epoch')"
      ]
     },
     "execution_count": 25,
     "metadata": {
      "tags": []
     },
     "output_type": "execute_result"
    },
    {
     "data": {
      "image/png": "[encoded data removed]",
      "text/plain": [
       "<Figure size 432x288 with 1 Axes>"
      ]
     },
     "metadata": {
      "needs_background": "light",
      "tags": []
     },
     "output_type": "display_data"
    }
   ],
   "source": [
    "plt.plot(range(epochs), losses)\n",
    "plt.ylabel(\"Loss\")\n",
    "plt.xlabel(\"epoch\")\n"
   ]
  },
  {
   "cell_type": "code",
   "execution_count": null,
   "metadata": {
    "colab": {
     "base_uri": "https://localhost:8080/",
     "height": 265
    },
    "colab_type": "code",
    "id": "9IbP8X57O_eG",
    "outputId": "6b69e854-6f73-4a44-bb57-3bf4240a4c9f"
   },
   "outputs": [
    {
     "data": {
      "image/png": "[encoded data removed]",
      "text/plain": [
       "<Figure size 432x288 with 1 Axes>"
      ]
     },
     "metadata": {
      "needs_background": "light",
      "tags": []
     },
     "output_type": "display_data"
    }
   ],
   "source": [
    "plot_line()"
   ]
  }
 ],
 "metadata": {
  "colab": {
   "collapsed_sections": [],
   "name": "pytorch 5: Linear Regression.ipynb",
   "provenance": []
  },
  "kernelspec": {
   "display_name": "Python 3",
   "language": "python",
   "name": "python3"
  },
  "language_info": {
   "codemirror_mode": {
    "name": "ipython",
    "version": 3
   },
   "file_extension": ".py",
   "mimetype": "text/x-python",
   "name": "python",
   "nbconvert_exporter": "python",
   "pygments_lexer": "ipython3",
   "version": "3.8.3"
  }
 },
 "nbformat": 4,
 "nbformat_minor": 4
}
