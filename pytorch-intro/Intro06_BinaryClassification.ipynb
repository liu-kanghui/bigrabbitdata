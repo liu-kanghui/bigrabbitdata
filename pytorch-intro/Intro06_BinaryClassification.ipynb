{
 "cells": [
  {
   "cell_type": "code",
   "execution_count": 1,
   "metadata": {
    "colab": {},
    "colab_type": "code",
    "id": "h1NMbZI7AM4Q"
   },
   "outputs": [],
   "source": [
    "import torch\n",
    "import numpy as np\n",
    "import matplotlib.pyplot as plt\n",
    "from sklearn import datasets\n",
    "import torch.nn as nn"
   ]
  },
  {
   "cell_type": "markdown",
   "metadata": {
    "colab_type": "text",
    "id": "bhKQLkSjFkuA"
   },
   "source": [
    "## Generate Dataset"
   ]
  },
  {
   "cell_type": "code",
   "execution_count": 2,
   "metadata": {
    "colab": {
     "base_uri": "https://localhost:8080/",
     "height": 51
    },
    "colab_type": "code",
    "id": "d07sKdzdAi5e",
    "outputId": "8a2c0fe4-efe6-4d5e-a788-e06b39bbb1e9"
   },
   "outputs": [
    {
     "name": "stdout",
     "output_type": "stream",
     "text": [
      "[7.07361553 0.70979786]\n",
      "1\n"
     ]
    }
   ],
   "source": [
    "centers = [[1, 0], [5, 0]]\n",
    "X, y = datasets.make_blobs(random_state=5, centers=centers)\n",
    "print (X[0]) \n",
    "print (y[0]) # point X[0] is in group 1"
   ]
  },
  {
   "cell_type": "markdown",
   "metadata": {
    "colab_type": "text",
    "id": "qlsYbAwRFvCw"
   },
   "source": [
    "## Show Blobs"
   ]
  },
  {
   "cell_type": "code",
   "execution_count": 3,
   "metadata": {
    "colab": {
     "base_uri": "https://localhost:8080/",
     "height": 265
    },
    "colab_type": "code",
    "id": "M0Zkf8PPFtfm",
    "outputId": "60265e9d-8ac6-4384-9c67-af8d94771739"
   },
   "outputs": [
    {
     "data": {
      "image/png": "[encoded data removed]",
      "text/plain": [
       "<Figure size 432x288 with 1 Axes>"
      ]
     },
     "metadata": {
      "needs_background": "light"
     },
     "output_type": "display_data"
    }
   ],
   "source": [
    "plt.scatter(X[y == 0, 0],\n",
    "            X[y == 0, 1],\n",
    "            c='blue',\n",
    "            marker='v',\n",
    "            label='cluster 0')\n",
    "\n",
    "plt.scatter(X[y == 1,0],\n",
    "            X[y == 1,1],\n",
    "            c='green',\n",
    "            marker='o',\n",
    "            label='cluster 1')\n",
    "plt.legend(loc='upper left')\n",
    "plt.show()"
   ]
  },
  {
   "cell_type": "markdown",
   "metadata": {
    "colab_type": "text",
    "id": "dGqwjrXSGIxz"
   },
   "source": []
  },
  {
   "cell_type": "markdown",
   "metadata": {
    "colab_type": "text",
    "id": "Tb55dRXhF1-P"
   },
   "source": [
    "## Create Our Model (Sigmoid Activation)"
   ]
  },
  {
   "cell_type": "code",
   "execution_count": 4,
   "metadata": {
    "colab": {},
    "colab_type": "code",
    "id": "3IEoyUjRfzpL"
   },
   "outputs": [],
   "source": [
    "class Model(nn.Module):\n",
    "    def __init__(self, input_size, output_size):\n",
    "      super().__init__() \n",
    "      self.linear = nn.Linear(input_size, output_size)\n",
    "    def forward(self, x):\n",
    "      pred = self.linear(x)\n",
    "      pred = torch.sigmoid(pred)\n",
    "      return pred\n",
    "    def predict(self, x):\n",
    "      pred = self.forward(x)\n",
    "      if pred >= 0.5:\n",
    "        return 1\n",
    "      else:\n",
    "        return 0"
   ]
  },
  {
   "cell_type": "markdown",
   "metadata": {
    "colab_type": "text",
    "id": "jD3N1t1XBI1N"
   },
   "source": [
    "## Define our model"
   ]
  },
  {
   "cell_type": "code",
   "execution_count": 5,
   "metadata": {
    "colab": {
     "base_uri": "https://localhost:8080/",
     "height": 119
    },
    "colab_type": "code",
    "id": "Vdp2D0lmgNsF",
    "outputId": "56695adb-11a2-4a60-e049-59b7bcdacca4"
   },
   "outputs": [
    {
     "name": "stdout",
     "output_type": "stream",
     "text": [
      "Model(\n",
      "  (linear): Linear(in_features=2, out_features=1, bias=True)\n",
      ")\n",
      "[Parameter containing:\n",
      "tensor([[ 0.4670, -0.5288]], requires_grad=True), Parameter containing:\n",
      "tensor([0.5762], requires_grad=True)]\n"
     ]
    }
   ],
   "source": [
    "torch.manual_seed(5)\n",
    "model = Model(2, 1)\n",
    "print (model)\n",
    "print (list(model.parameters()))"
   ]
  },
  {
   "cell_type": "markdown",
   "metadata": {
    "colab_type": "text",
    "id": "KK4JsS9TBe7g"
   },
   "source": [
    "## Plot the Graph"
   ]
  },
  {
   "cell_type": "code",
   "execution_count": 7,
   "metadata": {
    "colab": {
     "base_uri": "https://localhost:8080/",
     "height": 265
    },
    "colab_type": "code",
    "id": "TfZDtdU9gZTt",
    "outputId": "36c3f904-de67-474c-c892-398f51ead2b2"
   },
   "outputs": [
    {
     "name": "stdout",
     "output_type": "stream",
     "text": [
      "[Parameter containing:\n",
      "tensor([[ 0.4670, -0.5288]], requires_grad=True), Parameter containing:\n",
      "tensor([0.5762], requires_grad=True)]\n"
     ]
    },
    {
     "data": {
      "image/png": "[encoded data removed]",
      "text/plain": [
       "<Figure size 432x288 with 1 Axes>"
      ]
     },
     "metadata": {
      "needs_background": "light"
     },
     "output_type": "display_data"
    }
   ],
   "source": [
    "[w, b] = model.parameters()\n",
    "w1, w2 = w.view(2)\n",
    "print (list(model.parameters()))\n",
    "\n",
    "# extract the number of weight and bias.\n",
    "def get_parameters():\n",
    "  return w1.item(), w2.item(), b[0].item()\n",
    "\n",
    "def plot_graph():\n",
    "  w1, w2, b1 = get_parameters()\n",
    "  # To plot a line, we just need two data points\n",
    "  x1 = np.array([-3, 7]) \n",
    "  y1 = w1*x1 + b1\n",
    "  plt.plot(x1, y1, color='red')\n",
    "  plt.scatter(X[y == 0, 0],\n",
    "            X[y == 0, 1],\n",
    "            c='blue',\n",
    "            marker='v',\n",
    "            label='cluster 0')\n",
    "\n",
    "  plt.scatter(X[y == 1,0],\n",
    "              X[y == 1,1],\n",
    "              c='green',\n",
    "              marker='o',\n",
    "              label='cluster 1')\n",
    "  plt.legend(loc='upper left')\n",
    "  plt.show()\n",
    "\n",
    "plot_graph()"
   ]
  },
  {
   "cell_type": "markdown",
   "metadata": {
    "colab_type": "text",
    "id": "Ck7S4KwpBj2t"
   },
   "source": [
    "## Training in action"
   ]
  },
  {
   "cell_type": "code",
   "execution_count": 7,
   "metadata": {
    "colab": {},
    "colab_type": "code",
    "id": "XEY9Uoveix8y"
   },
   "outputs": [],
   "source": [
    "criterion = nn.BCELoss()\n",
    "optimizer = torch.optim.SGD(model.parameters(), lr = 0.05)"
   ]
  },
  {
   "cell_type": "code",
   "execution_count": 8,
   "metadata": {
    "colab": {},
    "colab_type": "code",
    "id": "chRfouh5i8qv"
   },
   "outputs": [],
   "source": [
    "X_tensor = torch.Tensor(X)\n",
    "y_tensor = torch.Tensor(y).reshape(100, 1)\n",
    "epochs = 1000\n",
    "\n",
    "for i in range(epochs):\n",
    "  y_pred = model.forward(X_tensor)\n",
    "  loss = criterion(y_pred, y_tensor)\n",
    "\n",
    "  optimizer.zero_grad()\n",
    "  loss.backward()\n",
    "  optimizer.step()"
   ]
  },
  {
   "cell_type": "code",
   "execution_count": 9,
   "metadata": {
    "colab": {
     "base_uri": "https://localhost:8080/",
     "height": 265
    },
    "colab_type": "code",
    "id": "ZPk-NblQtQkd",
    "outputId": "85143eb2-b75e-424d-eb4a-576a6cda89c7"
   },
   "outputs": [
    {
     "data": {
      "image/png": "[encoded data removed]",
      "text/plain": [
       "<Figure size 432x288 with 1 Axes>"
      ]
     },
     "metadata": {
      "needs_background": "light"
     },
     "output_type": "display_data"
    }
   ],
   "source": [
    "plot_graph()"
   ]
  },
  {
   "cell_type": "markdown",
   "metadata": {
    "colab_type": "text",
    "id": "mZI08LzIBnu9"
   },
   "source": [
    "## New Prediction"
   ]
  },
  {
   "cell_type": "code",
   "execution_count": 10,
   "metadata": {
    "colab": {
     "base_uri": "https://localhost:8080/",
     "height": 265
    },
    "colab_type": "code",
    "id": "5xhNNJ04rR1C",
    "outputId": "99339ebe-2292-4273-a022-5f10358e6f1c"
   },
   "outputs": [
    {
     "data": {
      "image/png": "[encoded data removed]",
      "text/plain": [
       "<Figure size 432x288 with 1 Axes>"
      ]
     },
     "metadata": {
      "needs_background": "light"
     },
     "output_type": "display_data"
    }
   ],
   "source": [
    "point_1 = torch.Tensor([6.0, -6.0])\n",
    "point_2 = torch.Tensor([2.0, 6.0])\n",
    "plt.plot(point_1.numpy()[0], point_1.numpy()[1], 'ro')\n",
    "plt.plot(point_2.numpy()[0], point_2.numpy()[1], 'yo')\n",
    "plot_graph()"
   ]
  },
  {
   "cell_type": "code",
   "execution_count": 13,
   "metadata": {
    "colab": {
     "base_uri": "https://localhost:8080/",
     "height": 51
    },
    "colab_type": "code",
    "id": "l4lLqvz2sk_G",
    "outputId": "ac0f1287-783b-47c9-916f-c1292962e1af"
   },
   "outputs": [
    {
     "name": "stdout",
     "output_type": "stream",
     "text": [
      "Point A in the group: 1\n",
      "Point B in the group: 0\n"
     ]
    }
   ],
   "source": [
    "print (\"Point A in the group:\",  model.predict(point_1))\n",
    "print (\"Point B in the group:\", model.predict(point_2))"
   ]
  }
 ],
 "metadata": {
  "colab": {
   "collapsed_sections": [],
   "name": "Pytorch 6 - Binary Classification",
   "provenance": []
  },
  "kernelspec": {
   "display_name": "Python 3",
   "language": "python",
   "name": "python3"
  },
  "language_info": {
   "codemirror_mode": {
    "name": "ipython",
    "version": 3
   },
   "file_extension": ".py",
   "mimetype": "text/x-python",
   "name": "python",
   "nbconvert_exporter": "python",
   "pygments_lexer": "ipython3",
   "version": "3.8.3"
  }
 },
 "nbformat": 4,
 "nbformat_minor": 4
}
