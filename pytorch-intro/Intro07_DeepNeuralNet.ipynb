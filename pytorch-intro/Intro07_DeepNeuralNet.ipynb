{
 "cells": [
  {
   "cell_type": "code",
   "execution_count": 1,
   "metadata": {
    "colab": {},
    "colab_type": "code",
    "id": "h1JaTe_VjTmN"
   },
   "outputs": [],
   "source": [
    "import torch\n",
    "import numpy as np\n",
    "import matplotlib.pyplot as plt\n",
    "from sklearn import datasets\n",
    "import torch.nn as nn"
   ]
  },
  {
   "cell_type": "markdown",
   "metadata": {
    "colab_type": "text",
    "id": "doJdbIESV86f"
   },
   "source": [
    "##Generate Dataset"
   ]
  },
  {
   "cell_type": "code",
   "execution_count": 2,
   "metadata": {
    "colab": {},
    "colab_type": "code",
    "id": "VkqVUVIMjXFv"
   },
   "outputs": [],
   "source": [
    "data_points = 300\n",
    "X, y = datasets.make_circles(n_samples=data_points, \n",
    "                             factor=0.2, \n",
    "                             random_state=5,\n",
    "                             noise=0.1)\n"
   ]
  },
  {
   "cell_type": "markdown",
   "metadata": {
    "colab_type": "text",
    "id": "Pf5EreFsWBJA"
   },
   "source": [
    "## Plot the generated dataset"
   ]
  },
  {
   "cell_type": "code",
   "execution_count": 3,
   "metadata": {
    "colab": {
     "base_uri": "https://localhost:8080/",
     "height": 265
    },
    "colab_type": "code",
    "id": "ZnGeuU0FkZ0Y",
    "outputId": "38365484-91d0-4a2f-f41f-dfec39b592a7"
   },
   "outputs": [
    {
     "data": {
      "image/png": "[encoded data removed]",
      "text/plain": [
       "<Figure size 432x288 with 1 Axes>"
      ]
     },
     "metadata": {
      "needs_background": "light"
     },
     "output_type": "display_data"
    }
   ],
   "source": [
    "plt.scatter(X[y == 0, 0],\n",
    "            X[y == 0, 1],\n",
    "            c='blue',\n",
    "            marker='v',\n",
    "            label='cluster 0')\n",
    "\n",
    "plt.scatter(X[y == 1,0],\n",
    "            X[y == 1,1],\n",
    "            c='green',\n",
    "            marker='o',\n",
    "            label='cluster 1')\n",
    "plt.legend(loc='upper left')\n",
    "plt.show()"
   ]
  },
  {
   "cell_type": "markdown",
   "metadata": {
    "colab_type": "text",
    "id": "OITs4F4C323Z"
   },
   "source": [
    "## Create our model"
   ]
  },
  {
   "cell_type": "code",
   "execution_count": 4,
   "metadata": {
    "colab": {},
    "colab_type": "code",
    "id": "P8egH0_rqTZ2"
   },
   "outputs": [],
   "source": [
    "class Model(nn.Module):\n",
    "    def __init__(self, input_size, hidden_one, output_size):\n",
    "      super().__init__() \n",
    "      self.linear = nn.Linear(input_size, hidden_one)\n",
    "      self.hidden_layer_1 = nn.Linear(hidden_one, output_size)\n",
    "    def forward(self, x):\n",
    "      x = torch.sigmoid(self.linear(x))\n",
    "      x = torch.sigmoid(self.hidden_layer_1(x))\n",
    "      return x\n",
    "    def predict(self, x):\n",
    "      pred = self.forward(x)\n",
    "      return np.where(pred<0.5, 0, 1)"
   ]
  },
  {
   "cell_type": "markdown",
   "metadata": {
    "colab_type": "text",
    "id": "W1UoYQb036Jd"
   },
   "source": [
    "## Define our model"
   ]
  },
  {
   "cell_type": "code",
   "execution_count": 5,
   "metadata": {
    "colab": {
     "base_uri": "https://localhost:8080/",
     "height": 221
    },
    "colab_type": "code",
    "id": "7SD62We5q800",
    "outputId": "cd8f263b-d3a0-44f2-e336-760224607c5d"
   },
   "outputs": [
    {
     "name": "stdout",
     "output_type": "stream",
     "text": [
      "Model(\n",
      "  (linear): Linear(in_features=2, out_features=4, bias=True)\n",
      "  (hidden_layer_1): Linear(in_features=4, out_features=1, bias=True)\n",
      ")\n",
      "[Parameter containing:\n",
      "tensor([[ 0.4670, -0.5288],\n",
      "        [ 0.5762,  0.4524],\n",
      "        [ 0.5941, -0.5421],\n",
      "        [-0.4746,  0.3365]], requires_grad=True), Parameter containing:\n",
      "tensor([-0.6601,  0.6989,  0.1505,  0.0913], requires_grad=True), Parameter containing:\n",
      "tensor([[-0.4276,  0.1593,  0.2150,  0.0793]], requires_grad=True), Parameter containing:\n",
      "tensor([0.4809], requires_grad=True)]\n"
     ]
    }
   ],
   "source": [
    "torch.manual_seed(5)\n",
    "model = Model(2, 4, 1)\n",
    "print (model)\n",
    "print (list(model.parameters()))"
   ]
  },
  {
   "cell_type": "markdown",
   "metadata": {
    "colab_type": "text",
    "id": "Ix5eXTL74ANi"
   },
   "source": [
    "## Training in action"
   ]
  },
  {
   "cell_type": "code",
   "execution_count": 6,
   "metadata": {
    "colab": {},
    "colab_type": "code",
    "id": "6_ohBFQoreOd"
   },
   "outputs": [],
   "source": [
    "criterion = nn.BCELoss()\n",
    "# Here we are using Adam optimizer\n",
    "optimizer = torch.optim.Adam(model.parameters(), lr = 0.05)\n",
    "\n",
    "X_tensor = torch.Tensor(X)\n",
    "y_tensor = torch.Tensor(y).reshape(data_points, 1)\n",
    "epochs = 200\n",
    "\n",
    "for i in range(epochs):\n",
    "  y_pred = model.forward(X_tensor)\n",
    "  loss = criterion(y_pred, y_tensor)\n",
    "  optimizer.zero_grad()\n",
    "  loss.backward()\n",
    "  optimizer.step()"
   ]
  },
  {
   "cell_type": "markdown",
   "metadata": {
    "colab_type": "text",
    "id": "HRwy-AAK4OF8"
   },
   "source": [
    "## Plot decision boundary"
   ]
  },
  {
   "cell_type": "code",
   "execution_count": 7,
   "metadata": {
    "colab": {
     "base_uri": "https://localhost:8080/",
     "height": 265
    },
    "colab_type": "code",
    "id": "Rj0Vc44kuX3P",
    "outputId": "bd94785a-9573-4d2d-e0e3-dbbd3d7dff9f"
   },
   "outputs": [
    {
     "data": {
      "image/png": "[encoded data removed]",
      "text/plain": [
       "<Figure size 432x288 with 1 Axes>"
      ]
     },
     "metadata": {
      "needs_background": "light"
     },
     "output_type": "display_data"
    }
   ],
   "source": [
    "def plot_decision_boundary(X, y):\n",
    "  # Plot the decision boundary\n",
    "  # Determine grid range in x and y directions and plus some padding \n",
    "  # x_span (50, 1)\n",
    "  x_span = np.linspace(min(X[:, 0]), max(X[:, 0]))\n",
    "  y_span = np.linspace(min(X[:, 1]), max(X[:, 1]))\n",
    "\n",
    "  # XX (50, 50)\n",
    "  XX, YY = np.meshgrid(x_span, y_span)\n",
    "\n",
    "  # data (2500, 2)\n",
    "  data = np.c_[XX.ravel(), YY.ravel()]\n",
    "\n",
    "  # Pass data to predict method\n",
    "  data_tensor = torch.FloatTensor(data)\n",
    "\n",
    "  #output (2500, 1)\n",
    "  output = model.predict(data_tensor)\n",
    "  Z = output.reshape(XX.shape)\n",
    "\n",
    "  plt.contourf(XX, YY, Z, cmap='spring')\n",
    "  \n",
    "  plt.scatter(X[y == 0, 0],\n",
    "            X[y == 0, 1],\n",
    "            c='blue',\n",
    "            marker='v',\n",
    "            label='cluster 0')\n",
    "\n",
    "  plt.scatter(X[y == 1,0],\n",
    "              X[y == 1,1],\n",
    "              c='green',\n",
    "              marker='o',\n",
    "              label='cluster 1')\n",
    "  plt.legend(loc='upper left')\n",
    "\n",
    "plot_decision_boundary(X, y)\n",
    "plt.show()\n"
   ]
  },
  {
   "cell_type": "markdown",
   "metadata": {
    "colab_type": "text",
    "id": "cPmn3Tw270Au"
   },
   "source": [
    "## New Predictions"
   ]
  },
  {
   "cell_type": "code",
   "execution_count": 8,
   "metadata": {
    "colab": {
     "base_uri": "https://localhost:8080/",
     "height": 299
    },
    "colab_type": "code",
    "id": "XS6mUpBc72h4",
    "outputId": "ca0a4d76-187f-43f0-fd3a-fde8a3daea26"
   },
   "outputs": [
    {
     "name": "stdout",
     "output_type": "stream",
     "text": [
      "Point A Red in the group: [1]\n",
      "Point B Yellow in the group: [0]\n"
     ]
    },
    {
     "data": {
      "image/png": "[encoded data removed]",
      "text/plain": [
       "<Figure size 432x288 with 1 Axes>"
      ]
     },
     "metadata": {
      "needs_background": "light"
     },
     "output_type": "display_data"
    }
   ],
   "source": [
    "point_1 = torch.Tensor([0.025, 0.025])\n",
    "point_2 = torch.Tensor([0.75, -0.75])\n",
    "\n",
    "print (\"Point A Red in the group:\",  model.predict(point_1))\n",
    "print (\"Point B Yellow in the group:\",  model.predict(point_2))\n",
    "\n",
    "plt.plot(point_1.numpy()[0], point_1.numpy()[1], 'ro')\n",
    "plt.plot(point_2.numpy()[0], point_2.numpy()[1], 'yv')\n",
    "plot_decision_boundary(X, y)\n",
    "plt.show()"
   ]
  },
  {
   "cell_type": "code",
   "execution_count": null,
   "metadata": {},
   "outputs": [],
   "source": []
  }
 ],
 "metadata": {
  "colab": {
   "collapsed_sections": [],
   "name": "Pytorch7: Deep Neural Network.ipynb",
   "provenance": []
  },
  "kernelspec": {
   "display_name": "Python 3",
   "language": "python",
   "name": "python3"
  },
  "language_info": {
   "codemirror_mode": {
    "name": "ipython",
    "version": 3
   },
   "file_extension": ".py",
   "mimetype": "text/x-python",
   "name": "python",
   "nbconvert_exporter": "python",
   "pygments_lexer": "ipython3",
   "version": "3.8.3"
  }
 },
 "nbformat": 4,
 "nbformat_minor": 4
}
