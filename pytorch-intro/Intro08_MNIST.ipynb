{
 "cells": [
  {
   "cell_type": "markdown",
   "metadata": {
    "colab_type": "text",
    "id": "LUZLUtMe2cWV"
   },
   "source": [
    "## Import "
   ]
  },
  {
   "cell_type": "code",
   "execution_count": 1,
   "metadata": {
    "colab": {},
    "colab_type": "code",
    "id": "musQudYk0bop"
   },
   "outputs": [],
   "source": [
    "import torch\n",
    "import matplotlib.pyplot as plt \n",
    "import numpy as np\n",
    "import torch.nn.functional as F\n",
    "from torch import nn\n",
    "from torchvision import datasets, transforms\n",
    "\n",
    "import PIL.ImageOps\n",
    "import requests\n",
    "from PIL import Image"
   ]
  },
  {
   "cell_type": "markdown",
   "metadata": {
    "colab_type": "text",
    "id": "YHFhA7z22edv"
   },
   "source": [
    "## Download Training Dataset"
   ]
  },
  {
   "cell_type": "code",
   "execution_count": 2,
   "metadata": {
    "colab": {
     "base_uri": "https://localhost:8080/",
     "height": 366,
     "referenced_widgets": [
      "eddaeb2d98704eb6ad0378afa316d93b",
      "bcd8186cfc7345afa5b7362a2886e551",
      "01e65f5a9bf04c25b94d2654d393d2bf",
      "bbad05a7747d4a299d0847d5777fce5c",
      "234336a593b5494497b6b2b5d434a502",
      "54d00962644a402b9b74123f1a79d466",
      "6e38ee8196d9483c8958f5d3b2b62966",
      "5d346abe73d345a09754397c18ff9a31",
      "480725aefbf141fb950d3cf5adead0c1",
      "567b60a1589a497ba03f93584de14456",
      "b7a12084a62449f8b5354054cab15a30",
      "b3cafed3dcae4bbb9a8bb471cf42edd6",
      "11a618001db142298c883cae67063323",
      "e10fbe1822ce4507ba5f416fbee31f05",
      "57cb53204c70488da861d07a7faf0579",
      "d284e6aca55b4627a9c3fd39ad025083",
      "e269b0bd3896479c90c8aae78e217420",
      "e6662a66bb4e41b1b66e4a2f6c0df055",
      "047abe4663ed45b49bd873c495ea448a",
      "ca225f7dab5a4e8bb88ae6f519fe4f2a",
      "033f54ffa67d4126b327be25c7592d5f",
      "23e71efdeaf34105ae4002a29ccd59f5",
      "ce376abc23f946f49244d751916121fd",
      "a34e4acf630c4ef3ac73cd01f001d20b",
      "e0a4aec0208f4a9e8e2a807fba6613b5",
      "6403970aac454e29aa40f4033be60bcc",
      "1553a5de9163446cb012e1adc50940aa",
      "ba653c456be4405cbb5f080faf50aa97",
      "731eee591e25403bb3c82cd3e53c6a79",
      "e331a09a78d843a7a0393b9430f5aa80",
      "114385a393174c8e9b9349a2940ebc62",
      "98d4fbbf97534c22a736a889cc6b8f4d"
     ]
    },
    "colab_type": "code",
    "id": "eVspM_bu0g7V",
    "outputId": "9a96ec80-3eed-4c74-81bf-a208d668493f"
   },
   "outputs": [
    {
     "name": "stdout",
     "output_type": "stream",
     "text": [
      "length of training_dataset:  60000\n",
      "length of validation_dataset:  10000\n"
     ]
    }
   ],
   "source": [
    "transform  = transforms.Compose([transforms.Resize((28,28)),\n",
    "                                 transforms.ToTensor()\n",
    "                                ])\n",
    "training_dataset = datasets.MNIST(root='./mnist', train=True, \n",
    "                                  download=True, transform= transform)\n",
    "validation_dataset = datasets.MNIST(root='./mnist', train=False, \n",
    "                                  download=True, transform= transform) \n",
    "\n",
    "print (\"length of training_dataset: \", len(training_dataset))\n",
    "print (\"length of validation_dataset: \", len(validation_dataset))"
   ]
  },
  {
   "cell_type": "markdown",
   "metadata": {
    "colab_type": "text",
    "id": "c722kc5ZPZbs"
   },
   "source": [
    "## Shape of the image tensor"
   ]
  },
  {
   "cell_type": "code",
   "execution_count": 3,
   "metadata": {
    "colab": {
     "base_uri": "https://localhost:8080/",
     "height": 34
    },
    "colab_type": "code",
    "id": "PEfW2oUY7Oc_",
    "outputId": "4e96ff46-530b-4d22-e26c-906541e545dd"
   },
   "outputs": [
    {
     "name": "stdout",
     "output_type": "stream",
     "text": [
      "torch.Size([1, 28, 28])\n"
     ]
    }
   ],
   "source": [
    "print (training_dataset[0][0].shape)"
   ]
  },
  {
   "cell_type": "markdown",
   "metadata": {
    "colab_type": "text",
    "id": "OSCJ3Odh5QV5"
   },
   "source": [
    "## Visualize Training Samples"
   ]
  },
  {
   "cell_type": "code",
   "execution_count": 4,
   "metadata": {
    "colab": {
     "base_uri": "https://localhost:8080/",
     "height": 369
    },
    "colab_type": "code",
    "id": "SVAxTIK65TYU",
    "outputId": "8a8696dd-384e-4c46-fc5d-a4a9995e65ef"
   },
   "outputs": [
    {
     "data": {
      "image/png": "[encoded data removed]",
      "text/plain": [
       "<Figure size 720x720 with 10 Axes>"
      ]
     },
     "metadata": {
      "needs_background": "light"
     },
     "output_type": "display_data"
    }
   ],
   "source": [
    "fig=plt.figure(figsize=(10, 10))\n",
    "\n",
    "for idx in range(1, 11):\n",
    "  fig.add_subplot(2, 5, idx)\n",
    "  # title is the image's label\n",
    "  plt.title(training_dataset[idx][1])\n",
    "  plt.imshow(transforms.ToPILImage()(training_dataset[idx][0]), cmap='gray')\n",
    "plt.tight_layout()\n",
    "plt.show()"
   ]
  },
  {
   "cell_type": "markdown",
   "metadata": {
    "colab_type": "text",
    "id": "YfMu5VQHD-75"
   },
   "source": [
    "## Create our model"
   ]
  },
  {
   "cell_type": "code",
   "execution_count": 5,
   "metadata": {
    "colab": {},
    "colab_type": "code",
    "id": "cFEcufjwED4H"
   },
   "outputs": [],
   "source": [
    "class Model(nn.Module):\n",
    "    def __init__(self, input_size, h1, h2, output_size):\n",
    "        super().__init__() \n",
    "        self.layer_1 = nn.Linear(input_size, h1)\n",
    "        self.layer_2 = nn.Linear(h1, h2)\n",
    "        self.layer_3 = nn.Linear(h2, output_size)\n",
    "    def forward(self, x):\n",
    "        x = F.relu(self.layer_1(x))\n",
    "        x = F.relu(self.layer_2(x))\n",
    "        x = self.layer_3(x)\n",
    "        return x"
   ]
  },
  {
   "cell_type": "markdown",
   "metadata": {
    "colab_type": "text",
    "id": "tYVke4eIUkRw"
   },
   "source": [
    "## Define our model"
   ]
  },
  {
   "cell_type": "code",
   "execution_count": 6,
   "metadata": {
    "colab": {
     "base_uri": "https://localhost:8080/",
     "height": 102
    },
    "colab_type": "code",
    "id": "brKiRXk2UmwT",
    "outputId": "29c4b661-7b81-4a2a-f85e-ec4e69b63667"
   },
   "outputs": [
    {
     "name": "stdout",
     "output_type": "stream",
     "text": [
      "Model(\n",
      "  (layer_1): Linear(in_features=784, out_features=300, bias=True)\n",
      "  (layer_2): Linear(in_features=300, out_features=100, bias=True)\n",
      "  (layer_3): Linear(in_features=100, out_features=10, bias=True)\n",
      ")\n"
     ]
    }
   ],
   "source": [
    "model = Model(784, 300, 100, 10)\n",
    "print (model)"
   ]
  },
  {
   "cell_type": "markdown",
   "metadata": {
    "colab_type": "text",
    "id": "Rszq7FN0Uo3J"
   },
   "source": [
    "## DataLoader"
   ]
  },
  {
   "cell_type": "code",
   "execution_count": 7,
   "metadata": {
    "colab": {},
    "colab_type": "code",
    "id": "cSMs6PyAUr0m"
   },
   "outputs": [],
   "source": [
    "training_loader = torch.utils.data.DataLoader(dataset=training_dataset, \n",
    "                                              batch_size=100,\n",
    "                                              shuffle=True)\n",
    "   \n",
    "validation_loader = torch.utils.data.DataLoader(dataset=validation_dataset, \n",
    "                                              batch_size=100,\n",
    "                                              shuffle=True)"
   ]
  },
  {
   "cell_type": "markdown",
   "metadata": {
    "colab_type": "text",
    "id": "uVDWDeOqWVDs"
   },
   "source": [
    "## Training in action"
   ]
  },
  {
   "cell_type": "code",
   "execution_count": 8,
   "metadata": {
    "colab": {
     "base_uri": "https://localhost:8080/",
     "height": 476
    },
    "colab_type": "code",
    "id": "wyOixOXRWIzM",
    "outputId": "bb42cb0a-668e-435e-c60b-48e3ce27f9b7"
   },
   "outputs": [
    {
     "name": "stdout",
     "output_type": "stream",
     "text": [
      "Train Epoch: 1 [10000/60000 (17%)] Loss: 0.471357\n",
      "Train Epoch: 1 [20000/60000 (33%)] Loss: 0.236051\n",
      "Train Epoch: 1 [30000/60000 (50%)] Loss: 0.205086\n",
      "Train Epoch: 1 [40000/60000 (67%)] Loss: 0.183945\n",
      "Train Epoch: 1 [50000/60000 (83%)] Loss: 0.161314\n",
      "Train Epoch: 1 [60000/60000 (100%)] Loss: 0.158010\n",
      "epoch : 1\n",
      "Train set: Accuracy: 55725.0/60000 (93%), Average Loss: 0.235960\n",
      "Validation set: Accuracy: 9622.0/10000 (96%), Average Loss: 0.021299\n",
      "Train Epoch: 2 [10000/60000 (17%)] Loss: 0.123148\n",
      "Train Epoch: 2 [20000/60000 (33%)] Loss: 0.132364\n",
      "Train Epoch: 2 [30000/60000 (50%)] Loss: 0.130814\n",
      "Train Epoch: 2 [40000/60000 (67%)] Loss: 0.133568\n",
      "Train Epoch: 2 [50000/60000 (83%)] Loss: 0.115897\n",
      "Train Epoch: 2 [60000/60000 (100%)] Loss: 0.125086\n",
      "epoch : 2\n",
      "Train set: Accuracy: 57821.0/60000 (96%), Average Loss: 0.126813\n",
      "Validation set: Accuracy: 9728.0/10000 (97%), Average Loss: 0.016021\n",
      "Train Epoch: 3 [10000/60000 (17%)] Loss: 0.093623\n",
      "Train Epoch: 3 [20000/60000 (33%)] Loss: 0.095558\n",
      "Train Epoch: 3 [30000/60000 (50%)] Loss: 0.104906\n",
      "Train Epoch: 3 [40000/60000 (67%)] Loss: 0.111083\n",
      "Train Epoch: 3 [50000/60000 (83%)] Loss: 0.110975\n",
      "Train Epoch: 3 [60000/60000 (100%)] Loss: 0.098331\n",
      "epoch : 3\n",
      "Train set: Accuracy: 58217.0/60000 (97%), Average Loss: 0.102413\n",
      "Validation set: Accuracy: 9644.0/10000 (96%), Average Loss: 0.021927\n"
     ]
    }
   ],
   "source": [
    "# Cross Entropy Loss with Adam Optimizer \n",
    "criterion = nn.CrossEntropyLoss()\n",
    "optimizer = torch.optim.Adam(model.parameters(), lr = 0.01)\n",
    "\n",
    "epochs = 3\n",
    "\n",
    "for e in range(epochs):\n",
    "\n",
    "    train_corrects = 0.0 \n",
    "    train_batch_loss = 0.0\n",
    "    train_epoch_loss = 0.0\n",
    "    val_corrects = 0.0\n",
    "    val_epoch_loss = 0.0\n",
    "    \n",
    "    # loop through 60000 samples 100 at a time\n",
    "    for batch_idx, data in enumerate(training_loader, start=1):\n",
    "        # convert (100, 1, 28 , 28) to (100, 748)\n",
    "        # data[0] is the array containing 100(batch_size) number of 1*28*28\n",
    "        # data[1] is the array containing 100 number of lables\n",
    "        inputs = data[0].view(data[0].shape[0], -1)\n",
    "        labels = data[1]\n",
    "        outputs = model(inputs)\n",
    "        loss = criterion(outputs, labels)\n",
    "\n",
    "        optimizer.zero_grad()\n",
    "        loss.backward()\n",
    "        optimizer.step()\n",
    "\n",
    "        # Return the index of the highest possibility\n",
    "        # which are the predicted labels\n",
    "        _, preds = torch.max(outputs, 1)\n",
    "        train_batch_loss += loss.item()\n",
    "\n",
    "        # sum up all the correct prediction\n",
    "        # since (preds==labels).sum() is a tensor\n",
    "        # we use item() to extract the number\n",
    "        train_corrects += (preds == labels).sum().item()\n",
    "\n",
    "        # print training loss every 100 mini-batch\n",
    "        # train_batch_loss is the average loss for 100 mini-batch\n",
    "        if batch_idx % 100 == 0:\n",
    "            print('Train Epoch: {} [{}/{} ({:.0f}%)] Loss: {:.6f}'.format(\n",
    "                   e + 1 , \n",
    "                   batch_idx * len(data[0]), \n",
    "                   len(training_loader.dataset),\n",
    "                   100.* batch_idx * len(data[0]) / len(training_loader.dataset), \n",
    "                   train_batch_loss / 100 ))\n",
    "            # accumulate loss for the epoch\n",
    "            train_epoch_loss += train_batch_loss\n",
    "            # reset the loss for every mini-batch\n",
    "            train_batch_loss = 0.0\n",
    "    else:\n",
    "        # torch.no_grad deactivate the auograd engine, \n",
    "        # reduce memory usage and speed up computations\n",
    "        with torch.no_grad():\n",
    "            for val_data in validation_loader:\n",
    "                val_inputs = val_data[0].view(val_data[0].shape[0], -1)\n",
    "                val_labels = val_data[1]\n",
    "                val_outputs = model(val_inputs)\n",
    "                val_loss = criterion(val_outputs, val_labels)\n",
    "\n",
    "                _, val_preds = torch.max(val_outputs, 1)\n",
    "                val_epoch_loss += val_loss.item()\n",
    "                val_corrects += (val_preds == val_labels).sum().item()\n",
    "\n",
    "\n",
    "        # print result for every epoch \n",
    "        train_accuracy = 100. * train_corrects / len(training_loader.dataset)\n",
    "        # here batch_idx is the total number of mini-batch = 600\n",
    "        train_epoch_loss /= batch_idx\n",
    "\n",
    "        print('epoch :', (e+1))\n",
    "        print('Train set: Accuracy: {}/{} ({:.0f}%), Average Loss: {:.6f}'.format(\n",
    "                train_corrects, len(training_loader.dataset),\n",
    "                train_accuracy, train_epoch_loss))\n",
    "\n",
    "\n",
    "        \n",
    "        val_accuracy = 100. * val_corrects / len(validation_loader.dataset)\n",
    "        val_epoch_loss /= batch_idx\n",
    "\n",
    "        print('Validation set: Accuracy: {}/{} ({:.0f}%), Average Loss: {:.6f}'.format(\n",
    "                val_corrects, len(validation_loader.dataset),\n",
    "                val_accuracy, val_epoch_loss))"
   ]
  },
  {
   "cell_type": "markdown",
   "metadata": {
    "colab_type": "text",
    "id": "O0HbvttdXAC2"
   },
   "source": [
    "## Predicted v.s Ground Truth"
   ]
  },
  {
   "cell_type": "code",
   "execution_count": 9,
   "metadata": {
    "colab": {
     "base_uri": "https://localhost:8080/",
     "height": 707
    },
    "colab_type": "code",
    "id": "AVfQkE3AZ0DL",
    "outputId": "6b082730-e6c5-4aee-e568-c98f497fa8b5"
   },
   "outputs": [
    {
     "data": {
      "image/png": "[encoded data removed]",
      "text/plain": [
       "<Figure size 720x720 with 20 Axes>"
      ]
     },
     "metadata": {
      "needs_background": "light"
     },
     "output_type": "display_data"
    }
   ],
   "source": [
    "# Visualize predicted labels Vs. ground truth\n",
    "dataiter = iter(validation_loader)\n",
    "\n",
    "# Get the first 100 samples from validation dataset\n",
    "images, labels = dataiter.next()\n",
    "output = model(images.view(images.shape[0], -1))\n",
    "_, preds = torch.max(output, 1)\n",
    "\n",
    "fig = plt.figure(figsize=(10, 10))\n",
    "\n",
    "# Print the first 20 images\n",
    "for idx in range(1, 21):\n",
    "    ax = fig.add_subplot(4, 5, idx)\n",
    "    plt.title(\"{} ({})\".format(str(preds[idx].item()), \n",
    "                              str(labels[idx].item())), \n",
    "                        color=(\"green\" if preds[idx]==labels[idx] else \"red\"))\n",
    "    plt.imshow(transforms.ToPILImage()(images[idx]), cmap='gray')\n",
    "plt.tight_layout()\n",
    "plt.show()"
   ]
  },
  {
   "cell_type": "markdown",
   "metadata": {
    "colab_type": "text",
    "id": "ZCJNm9EYaV1o"
   },
   "source": [
    "## Test on data from online"
   ]
  },
  {
   "cell_type": "code",
   "execution_count": 13,
   "metadata": {
    "colab": {
     "base_uri": "https://localhost:8080/",
     "height": 282
    },
    "colab_type": "code",
    "id": "R1Lf1R92abUr",
    "outputId": "1e0b12f6-3360-4e65-8578-60fdc9888a74"
   },
   "outputs": [
    {
     "name": "stdout",
     "output_type": "stream",
     "text": [
      "our predicted result is  1\n"
     ]
    },
    {
     "data": {
      "image/png": "[encoded data removed]",
      "text/plain": [
       "<Figure size 432x288 with 1 Axes>"
      ]
     },
     "metadata": {
      "needs_background": "light"
     },
     "output_type": "display_data"
    }
   ],
   "source": [
    "url = 'https://upload.wikimedia.org/wikipedia/commons/c/c5/Number-One.JPG'\n",
    "response = requests.get(url, stream = True)\n",
    "img = Image.open(response.raw)\n",
    "plt.imshow(img)\n",
    "\n",
    "# invert the back and white part \n",
    "# so it matches with our training data\n",
    "img = PIL.ImageOps.invert(img)\n",
    "\n",
    "# convert image to grey-scaled. \n",
    "# so the color channel would be 1 \n",
    "img = img.convert('L')\n",
    "img = transform(img) \n",
    "plt.imshow(transforms.ToPILImage()(img), cmap='gray')\n",
    "\n",
    "\n",
    "img = img.view(img.shape[0], -1)\n",
    "output = model(img)\n",
    "_, pred = torch.max(output, 1)\n",
    "print(\"our predicted result is \", pred.item())"
   ]
  },
  {
   "cell_type": "code",
   "execution_count": null,
   "metadata": {},
   "outputs": [],
   "source": []
  }
 ],
 "metadata": {
  "colab": {
   "collapsed_sections": [],
   "name": "PYorch8: MNIST.ipynb",
   "provenance": []
  },
  "kernelspec": {
   "display_name": "Python 3",
   "language": "python",
   "name": "python3"
  },
  "language_info": {
   "codemirror_mode": {
    "name": "ipython",
    "version": 3
   },
   "file_extension": ".py",
   "mimetype": "text/x-python",
   "name": "python",
   "nbconvert_exporter": "python",
   "pygments_lexer": "ipython3",
   "version": "3.8.3"
  },
  "widgets": {
   "application/vnd.jupyter.widget-state+json": {
    "01e65f5a9bf04c25b94d2654d393d2bf": {
     "model_module": "@jupyter-widgets/controls",
     "model_name": "IntProgressModel",
     "state": {
      "_dom_classes": [],
      "_model_module": "@jupyter-widgets/controls",
      "_model_module_version": "1.5.0",
      "_model_name": "IntProgressModel",
      "_view_count": null,
      "_view_module": "@jupyter-widgets/controls",
      "_view_module_version": "1.5.0",
      "_view_name": "ProgressView",
      "bar_style": "info",
      "description": "",
      "description_tooltip": null,
      "layout": "IPY_MODEL_54d00962644a402b9b74123f1a79d466",
      "max": 1,
      "min": 0,
      "orientation": "horizontal",
      "style": "IPY_MODEL_234336a593b5494497b6b2b5d434a502",
      "value": 1
     }
    },
    "033f54ffa67d4126b327be25c7592d5f": {
     "model_module": "@jupyter-widgets/controls",
     "model_name": "ProgressStyleModel",
     "state": {
      "_model_module": "@jupyter-widgets/controls",
      "_model_module_version": "1.5.0",
      "_model_name": "ProgressStyleModel",
      "_view_count": null,
      "_view_module": "@jupyter-widgets/base",
      "_view_module_version": "1.2.0",
      "_view_name": "StyleView",
      "bar_color": null,
      "description_width": "initial"
     }
    },
    "047abe4663ed45b49bd873c495ea448a": {
     "model_module": "@jupyter-widgets/controls",
     "model_name": "IntProgressModel",
     "state": {
      "_dom_classes": [],
      "_model_module": "@jupyter-widgets/controls",
      "_model_module_version": "1.5.0",
      "_model_name": "IntProgressModel",
      "_view_count": null,
      "_view_module": "@jupyter-widgets/controls",
      "_view_module_version": "1.5.0",
      "_view_name": "ProgressView",
      "bar_style": "info",
      "description": "",
      "description_tooltip": null,
      "layout": "IPY_MODEL_23e71efdeaf34105ae4002a29ccd59f5",
      "max": 1,
      "min": 0,
      "orientation": "horizontal",
      "style": "IPY_MODEL_033f54ffa67d4126b327be25c7592d5f",
      "value": 1
     }
    },
    "114385a393174c8e9b9349a2940ebc62": {
     "model_module": "@jupyter-widgets/controls",
     "model_name": "DescriptionStyleModel",
     "state": {
      "_model_module": "@jupyter-widgets/controls",
      "_model_module_version": "1.5.0",
      "_model_name": "DescriptionStyleModel",
      "_view_count": null,
      "_view_module": "@jupyter-widgets/base",
      "_view_module_version": "1.2.0",
      "_view_name": "StyleView",
      "description_width": ""
     }
    },
    "11a618001db142298c883cae67063323": {
     "model_module": "@jupyter-widgets/controls",
     "model_name": "ProgressStyleModel",
     "state": {
      "_model_module": "@jupyter-widgets/controls",
      "_model_module_version": "1.5.0",
      "_model_name": "ProgressStyleModel",
      "_view_count": null,
      "_view_module": "@jupyter-widgets/base",
      "_view_module_version": "1.2.0",
      "_view_name": "StyleView",
      "bar_color": null,
      "description_width": "initial"
     }
    },
    "1553a5de9163446cb012e1adc50940aa": {
     "model_module": "@jupyter-widgets/controls",
     "model_name": "IntProgressModel",
     "state": {
      "_dom_classes": [],
      "_model_module": "@jupyter-widgets/controls",
      "_model_module_version": "1.5.0",
      "_model_name": "IntProgressModel",
      "_view_count": null,
      "_view_module": "@jupyter-widgets/controls",
      "_view_module_version": "1.5.0",
      "_view_name": "ProgressView",
      "bar_style": "success",
      "description": "",
      "description_tooltip": null,
      "layout": "IPY_MODEL_e331a09a78d843a7a0393b9430f5aa80",
      "max": 1,
      "min": 0,
      "orientation": "horizontal",
      "style": "IPY_MODEL_731eee591e25403bb3c82cd3e53c6a79",
      "value": 1
     }
    },
    "234336a593b5494497b6b2b5d434a502": {
     "model_module": "@jupyter-widgets/controls",
     "model_name": "ProgressStyleModel",
     "state": {
      "_model_module": "@jupyter-widgets/controls",
      "_model_module_version": "1.5.0",
      "_model_name": "ProgressStyleModel",
      "_view_count": null,
      "_view_module": "@jupyter-widgets/base",
      "_view_module_version": "1.2.0",
      "_view_name": "StyleView",
      "bar_color": null,
      "description_width": "initial"
     }
    },
    "23e71efdeaf34105ae4002a29ccd59f5": {
     "model_module": "@jupyter-widgets/base",
     "model_name": "LayoutModel",
     "state": {
      "_model_module": "@jupyter-widgets/base",
      "_model_module_version": "1.2.0",
      "_model_name": "LayoutModel",
      "_view_count": null,
      "_view_module": "@jupyter-widgets/base",
      "_view_module_version": "1.2.0",
      "_view_name": "LayoutView",
      "align_content": null,
      "align_items": null,
      "align_self": null,
      "border": null,
      "bottom": null,
      "display": null,
      "flex": null,
      "flex_flow": null,
      "grid_area": null,
      "grid_auto_columns": null,
      "grid_auto_flow": null,
      "grid_auto_rows": null,
      "grid_column": null,
      "grid_gap": null,
      "grid_row": null,
      "grid_template_areas": null,
      "grid_template_columns": null,
      "grid_template_rows": null,
      "height": null,
      "justify_content": null,
      "justify_items": null,
      "left": null,
      "margin": null,
      "max_height": null,
      "max_width": null,
      "min_height": null,
      "min_width": null,
      "object_fit": null,
      "object_position": null,
      "order": null,
      "overflow": null,
      "overflow_x": null,
      "overflow_y": null,
      "padding": null,
      "right": null,
      "top": null,
      "visibility": null,
      "width": null
     }
    },
    "480725aefbf141fb950d3cf5adead0c1": {
     "model_module": "@jupyter-widgets/controls",
     "model_name": "HBoxModel",
     "state": {
      "_dom_classes": [],
      "_model_module": "@jupyter-widgets/controls",
      "_model_module_version": "1.5.0",
      "_model_name": "HBoxModel",
      "_view_count": null,
      "_view_module": "@jupyter-widgets/controls",
      "_view_module_version": "1.5.0",
      "_view_name": "HBoxView",
      "box_style": "",
      "children": [
       "IPY_MODEL_b7a12084a62449f8b5354054cab15a30",
       "IPY_MODEL_b3cafed3dcae4bbb9a8bb471cf42edd6"
      ],
      "layout": "IPY_MODEL_567b60a1589a497ba03f93584de14456"
     }
    },
    "54d00962644a402b9b74123f1a79d466": {
     "model_module": "@jupyter-widgets/base",
     "model_name": "LayoutModel",
     "state": {
      "_model_module": "@jupyter-widgets/base",
      "_model_module_version": "1.2.0",
      "_model_name": "LayoutModel",
      "_view_count": null,
      "_view_module": "@jupyter-widgets/base",
      "_view_module_version": "1.2.0",
      "_view_name": "LayoutView",
      "align_content": null,
      "align_items": null,
      "align_self": null,
      "border": null,
      "bottom": null,
      "display": null,
      "flex": null,
      "flex_flow": null,
      "grid_area": null,
      "grid_auto_columns": null,
      "grid_auto_flow": null,
      "grid_auto_rows": null,
      "grid_column": null,
      "grid_gap": null,
      "grid_row": null,
      "grid_template_areas": null,
      "grid_template_columns": null,
      "grid_template_rows": null,
      "height": null,
      "justify_content": null,
      "justify_items": null,
      "left": null,
      "margin": null,
      "max_height": null,
      "max_width": null,
      "min_height": null,
      "min_width": null,
      "object_fit": null,
      "object_position": null,
      "order": null,
      "overflow": null,
      "overflow_x": null,
      "overflow_y": null,
      "padding": null,
      "right": null,
      "top": null,
      "visibility": null,
      "width": null
     }
    },
    "567b60a1589a497ba03f93584de14456": {
     "model_module": "@jupyter-widgets/base",
     "model_name": "LayoutModel",
     "state": {
      "_model_module": "@jupyter-widgets/base",
      "_model_module_version": "1.2.0",
      "_model_name": "LayoutModel",
      "_view_count": null,
      "_view_module": "@jupyter-widgets/base",
      "_view_module_version": "1.2.0",
      "_view_name": "LayoutView",
      "align_content": null,
      "align_items": null,
      "align_self": null,
      "border": null,
      "bottom": null,
      "display": null,
      "flex": null,
      "flex_flow": null,
      "grid_area": null,
      "grid_auto_columns": null,
      "grid_auto_flow": null,
      "grid_auto_rows": null,
      "grid_column": null,
      "grid_gap": null,
      "grid_row": null,
      "grid_template_areas": null,
      "grid_template_columns": null,
      "grid_template_rows": null,
      "height": null,
      "justify_content": null,
      "justify_items": null,
      "left": null,
      "margin": null,
      "max_height": null,
      "max_width": null,
      "min_height": null,
      "min_width": null,
      "object_fit": null,
      "object_position": null,
      "order": null,
      "overflow": null,
      "overflow_x": null,
      "overflow_y": null,
      "padding": null,
      "right": null,
      "top": null,
      "visibility": null,
      "width": null
     }
    },
    "57cb53204c70488da861d07a7faf0579": {
     "model_module": "@jupyter-widgets/controls",
     "model_name": "DescriptionStyleModel",
     "state": {
      "_model_module": "@jupyter-widgets/controls",
      "_model_module_version": "1.5.0",
      "_model_name": "DescriptionStyleModel",
      "_view_count": null,
      "_view_module": "@jupyter-widgets/base",
      "_view_module_version": "1.2.0",
      "_view_name": "StyleView",
      "description_width": ""
     }
    },
    "5d346abe73d345a09754397c18ff9a31": {
     "model_module": "@jupyter-widgets/base",
     "model_name": "LayoutModel",
     "state": {
      "_model_module": "@jupyter-widgets/base",
      "_model_module_version": "1.2.0",
      "_model_name": "LayoutModel",
      "_view_count": null,
      "_view_module": "@jupyter-widgets/base",
      "_view_module_version": "1.2.0",
      "_view_name": "LayoutView",
      "align_content": null,
      "align_items": null,
      "align_self": null,
      "border": null,
      "bottom": null,
      "display": null,
      "flex": null,
      "flex_flow": null,
      "grid_area": null,
      "grid_auto_columns": null,
      "grid_auto_flow": null,
      "grid_auto_rows": null,
      "grid_column": null,
      "grid_gap": null,
      "grid_row": null,
      "grid_template_areas": null,
      "grid_template_columns": null,
      "grid_template_rows": null,
      "height": null,
      "justify_content": null,
      "justify_items": null,
      "left": null,
      "margin": null,
      "max_height": null,
      "max_width": null,
      "min_height": null,
      "min_width": null,
      "object_fit": null,
      "object_position": null,
      "order": null,
      "overflow": null,
      "overflow_x": null,
      "overflow_y": null,
      "padding": null,
      "right": null,
      "top": null,
      "visibility": null,
      "width": null
     }
    },
    "6403970aac454e29aa40f4033be60bcc": {
     "model_module": "@jupyter-widgets/base",
     "model_name": "LayoutModel",
     "state": {
      "_model_module": "@jupyter-widgets/base",
      "_model_module_version": "1.2.0",
      "_model_name": "LayoutModel",
      "_view_count": null,
      "_view_module": "@jupyter-widgets/base",
      "_view_module_version": "1.2.0",
      "_view_name": "LayoutView",
      "align_content": null,
      "align_items": null,
      "align_self": null,
      "border": null,
      "bottom": null,
      "display": null,
      "flex": null,
      "flex_flow": null,
      "grid_area": null,
      "grid_auto_columns": null,
      "grid_auto_flow": null,
      "grid_auto_rows": null,
      "grid_column": null,
      "grid_gap": null,
      "grid_row": null,
      "grid_template_areas": null,
      "grid_template_columns": null,
      "grid_template_rows": null,
      "height": null,
      "justify_content": null,
      "justify_items": null,
      "left": null,
      "margin": null,
      "max_height": null,
      "max_width": null,
      "min_height": null,
      "min_width": null,
      "object_fit": null,
      "object_position": null,
      "order": null,
      "overflow": null,
      "overflow_x": null,
      "overflow_y": null,
      "padding": null,
      "right": null,
      "top": null,
      "visibility": null,
      "width": null
     }
    },
    "6e38ee8196d9483c8958f5d3b2b62966": {
     "model_module": "@jupyter-widgets/controls",
     "model_name": "DescriptionStyleModel",
     "state": {
      "_model_module": "@jupyter-widgets/controls",
      "_model_module_version": "1.5.0",
      "_model_name": "DescriptionStyleModel",
      "_view_count": null,
      "_view_module": "@jupyter-widgets/base",
      "_view_module_version": "1.2.0",
      "_view_name": "StyleView",
      "description_width": ""
     }
    },
    "731eee591e25403bb3c82cd3e53c6a79": {
     "model_module": "@jupyter-widgets/controls",
     "model_name": "ProgressStyleModel",
     "state": {
      "_model_module": "@jupyter-widgets/controls",
      "_model_module_version": "1.5.0",
      "_model_name": "ProgressStyleModel",
      "_view_count": null,
      "_view_module": "@jupyter-widgets/base",
      "_view_module_version": "1.2.0",
      "_view_name": "StyleView",
      "bar_color": null,
      "description_width": "initial"
     }
    },
    "98d4fbbf97534c22a736a889cc6b8f4d": {
     "model_module": "@jupyter-widgets/base",
     "model_name": "LayoutModel",
     "state": {
      "_model_module": "@jupyter-widgets/base",
      "_model_module_version": "1.2.0",
      "_model_name": "LayoutModel",
      "_view_count": null,
      "_view_module": "@jupyter-widgets/base",
      "_view_module_version": "1.2.0",
      "_view_name": "LayoutView",
      "align_content": null,
      "align_items": null,
      "align_self": null,
      "border": null,
      "bottom": null,
      "display": null,
      "flex": null,
      "flex_flow": null,
      "grid_area": null,
      "grid_auto_columns": null,
      "grid_auto_flow": null,
      "grid_auto_rows": null,
      "grid_column": null,
      "grid_gap": null,
      "grid_row": null,
      "grid_template_areas": null,
      "grid_template_columns": null,
      "grid_template_rows": null,
      "height": null,
      "justify_content": null,
      "justify_items": null,
      "left": null,
      "margin": null,
      "max_height": null,
      "max_width": null,
      "min_height": null,
      "min_width": null,
      "object_fit": null,
      "object_position": null,
      "order": null,
      "overflow": null,
      "overflow_x": null,
      "overflow_y": null,
      "padding": null,
      "right": null,
      "top": null,
      "visibility": null,
      "width": null
     }
    },
    "a34e4acf630c4ef3ac73cd01f001d20b": {
     "model_module": "@jupyter-widgets/base",
     "model_name": "LayoutModel",
     "state": {
      "_model_module": "@jupyter-widgets/base",
      "_model_module_version": "1.2.0",
      "_model_name": "LayoutModel",
      "_view_count": null,
      "_view_module": "@jupyter-widgets/base",
      "_view_module_version": "1.2.0",
      "_view_name": "LayoutView",
      "align_content": null,
      "align_items": null,
      "align_self": null,
      "border": null,
      "bottom": null,
      "display": null,
      "flex": null,
      "flex_flow": null,
      "grid_area": null,
      "grid_auto_columns": null,
      "grid_auto_flow": null,
      "grid_auto_rows": null,
      "grid_column": null,
      "grid_gap": null,
      "grid_row": null,
      "grid_template_areas": null,
      "grid_template_columns": null,
      "grid_template_rows": null,
      "height": null,
      "justify_content": null,
      "justify_items": null,
      "left": null,
      "margin": null,
      "max_height": null,
      "max_width": null,
      "min_height": null,
      "min_width": null,
      "object_fit": null,
      "object_position": null,
      "order": null,
      "overflow": null,
      "overflow_x": null,
      "overflow_y": null,
      "padding": null,
      "right": null,
      "top": null,
      "visibility": null,
      "width": null
     }
    },
    "b3cafed3dcae4bbb9a8bb471cf42edd6": {
     "model_module": "@jupyter-widgets/controls",
     "model_name": "HTMLModel",
     "state": {
      "_dom_classes": [],
      "_model_module": "@jupyter-widgets/controls",
      "_model_module_version": "1.5.0",
      "_model_name": "HTMLModel",
      "_view_count": null,
      "_view_module": "@jupyter-widgets/controls",
      "_view_module_version": "1.5.0",
      "_view_name": "HTMLView",
      "description": "",
      "description_tooltip": null,
      "layout": "IPY_MODEL_d284e6aca55b4627a9c3fd39ad025083",
      "placeholder": "​",
      "style": "IPY_MODEL_57cb53204c70488da861d07a7faf0579",
      "value": " 32768/? [00:00&lt;00:00, 46604.33it/s]"
     }
    },
    "b7a12084a62449f8b5354054cab15a30": {
     "model_module": "@jupyter-widgets/controls",
     "model_name": "IntProgressModel",
     "state": {
      "_dom_classes": [],
      "_model_module": "@jupyter-widgets/controls",
      "_model_module_version": "1.5.0",
      "_model_name": "IntProgressModel",
      "_view_count": null,
      "_view_module": "@jupyter-widgets/controls",
      "_view_module_version": "1.5.0",
      "_view_name": "ProgressView",
      "bar_style": "success",
      "description": "",
      "description_tooltip": null,
      "layout": "IPY_MODEL_e10fbe1822ce4507ba5f416fbee31f05",
      "max": 1,
      "min": 0,
      "orientation": "horizontal",
      "style": "IPY_MODEL_11a618001db142298c883cae67063323",
      "value": 1
     }
    },
    "ba653c456be4405cbb5f080faf50aa97": {
     "model_module": "@jupyter-widgets/controls",
     "model_name": "HTMLModel",
     "state": {
      "_dom_classes": [],
      "_model_module": "@jupyter-widgets/controls",
      "_model_module_version": "1.5.0",
      "_model_name": "HTMLModel",
      "_view_count": null,
      "_view_module": "@jupyter-widgets/controls",
      "_view_module_version": "1.5.0",
      "_view_name": "HTMLView",
      "description": "",
      "description_tooltip": null,
      "layout": "IPY_MODEL_98d4fbbf97534c22a736a889cc6b8f4d",
      "placeholder": "​",
      "style": "IPY_MODEL_114385a393174c8e9b9349a2940ebc62",
      "value": " 8192/? [00:02&lt;00:00, 3313.02it/s]"
     }
    },
    "bbad05a7747d4a299d0847d5777fce5c": {
     "model_module": "@jupyter-widgets/controls",
     "model_name": "HTMLModel",
     "state": {
      "_dom_classes": [],
      "_model_module": "@jupyter-widgets/controls",
      "_model_module_version": "1.5.0",
      "_model_name": "HTMLModel",
      "_view_count": null,
      "_view_module": "@jupyter-widgets/controls",
      "_view_module_version": "1.5.0",
      "_view_name": "HTMLView",
      "description": "",
      "description_tooltip": null,
      "layout": "IPY_MODEL_5d346abe73d345a09754397c18ff9a31",
      "placeholder": "​",
      "style": "IPY_MODEL_6e38ee8196d9483c8958f5d3b2b62966",
      "value": " 9920512/? [00:20&lt;00:00, 1638961.82it/s]"
     }
    },
    "bcd8186cfc7345afa5b7362a2886e551": {
     "model_module": "@jupyter-widgets/base",
     "model_name": "LayoutModel",
     "state": {
      "_model_module": "@jupyter-widgets/base",
      "_model_module_version": "1.2.0",
      "_model_name": "LayoutModel",
      "_view_count": null,
      "_view_module": "@jupyter-widgets/base",
      "_view_module_version": "1.2.0",
      "_view_name": "LayoutView",
      "align_content": null,
      "align_items": null,
      "align_self": null,
      "border": null,
      "bottom": null,
      "display": null,
      "flex": null,
      "flex_flow": null,
      "grid_area": null,
      "grid_auto_columns": null,
      "grid_auto_flow": null,
      "grid_auto_rows": null,
      "grid_column": null,
      "grid_gap": null,
      "grid_row": null,
      "grid_template_areas": null,
      "grid_template_columns": null,
      "grid_template_rows": null,
      "height": null,
      "justify_content": null,
      "justify_items": null,
      "left": null,
      "margin": null,
      "max_height": null,
      "max_width": null,
      "min_height": null,
      "min_width": null,
      "object_fit": null,
      "object_position": null,
      "order": null,
      "overflow": null,
      "overflow_x": null,
      "overflow_y": null,
      "padding": null,
      "right": null,
      "top": null,
      "visibility": null,
      "width": null
     }
    },
    "ca225f7dab5a4e8bb88ae6f519fe4f2a": {
     "model_module": "@jupyter-widgets/controls",
     "model_name": "HTMLModel",
     "state": {
      "_dom_classes": [],
      "_model_module": "@jupyter-widgets/controls",
      "_model_module_version": "1.5.0",
      "_model_name": "HTMLModel",
      "_view_count": null,
      "_view_module": "@jupyter-widgets/controls",
      "_view_module_version": "1.5.0",
      "_view_name": "HTMLView",
      "description": "",
      "description_tooltip": null,
      "layout": "IPY_MODEL_a34e4acf630c4ef3ac73cd01f001d20b",
      "placeholder": "​",
      "style": "IPY_MODEL_ce376abc23f946f49244d751916121fd",
      "value": " 1654784/? [00:15&lt;00:00, 259692.83it/s]"
     }
    },
    "ce376abc23f946f49244d751916121fd": {
     "model_module": "@jupyter-widgets/controls",
     "model_name": "DescriptionStyleModel",
     "state": {
      "_model_module": "@jupyter-widgets/controls",
      "_model_module_version": "1.5.0",
      "_model_name": "DescriptionStyleModel",
      "_view_count": null,
      "_view_module": "@jupyter-widgets/base",
      "_view_module_version": "1.2.0",
      "_view_name": "StyleView",
      "description_width": ""
     }
    },
    "d284e6aca55b4627a9c3fd39ad025083": {
     "model_module": "@jupyter-widgets/base",
     "model_name": "LayoutModel",
     "state": {
      "_model_module": "@jupyter-widgets/base",
      "_model_module_version": "1.2.0",
      "_model_name": "LayoutModel",
      "_view_count": null,
      "_view_module": "@jupyter-widgets/base",
      "_view_module_version": "1.2.0",
      "_view_name": "LayoutView",
      "align_content": null,
      "align_items": null,
      "align_self": null,
      "border": null,
      "bottom": null,
      "display": null,
      "flex": null,
      "flex_flow": null,
      "grid_area": null,
      "grid_auto_columns": null,
      "grid_auto_flow": null,
      "grid_auto_rows": null,
      "grid_column": null,
      "grid_gap": null,
      "grid_row": null,
      "grid_template_areas": null,
      "grid_template_columns": null,
      "grid_template_rows": null,
      "height": null,
      "justify_content": null,
      "justify_items": null,
      "left": null,
      "margin": null,
      "max_height": null,
      "max_width": null,
      "min_height": null,
      "min_width": null,
      "object_fit": null,
      "object_position": null,
      "order": null,
      "overflow": null,
      "overflow_x": null,
      "overflow_y": null,
      "padding": null,
      "right": null,
      "top": null,
      "visibility": null,
      "width": null
     }
    },
    "e0a4aec0208f4a9e8e2a807fba6613b5": {
     "model_module": "@jupyter-widgets/controls",
     "model_name": "HBoxModel",
     "state": {
      "_dom_classes": [],
      "_model_module": "@jupyter-widgets/controls",
      "_model_module_version": "1.5.0",
      "_model_name": "HBoxModel",
      "_view_count": null,
      "_view_module": "@jupyter-widgets/controls",
      "_view_module_version": "1.5.0",
      "_view_name": "HBoxView",
      "box_style": "",
      "children": [
       "IPY_MODEL_1553a5de9163446cb012e1adc50940aa",
       "IPY_MODEL_ba653c456be4405cbb5f080faf50aa97"
      ],
      "layout": "IPY_MODEL_6403970aac454e29aa40f4033be60bcc"
     }
    },
    "e10fbe1822ce4507ba5f416fbee31f05": {
     "model_module": "@jupyter-widgets/base",
     "model_name": "LayoutModel",
     "state": {
      "_model_module": "@jupyter-widgets/base",
      "_model_module_version": "1.2.0",
      "_model_name": "LayoutModel",
      "_view_count": null,
      "_view_module": "@jupyter-widgets/base",
      "_view_module_version": "1.2.0",
      "_view_name": "LayoutView",
      "align_content": null,
      "align_items": null,
      "align_self": null,
      "border": null,
      "bottom": null,
      "display": null,
      "flex": null,
      "flex_flow": null,
      "grid_area": null,
      "grid_auto_columns": null,
      "grid_auto_flow": null,
      "grid_auto_rows": null,
      "grid_column": null,
      "grid_gap": null,
      "grid_row": null,
      "grid_template_areas": null,
      "grid_template_columns": null,
      "grid_template_rows": null,
      "height": null,
      "justify_content": null,
      "justify_items": null,
      "left": null,
      "margin": null,
      "max_height": null,
      "max_width": null,
      "min_height": null,
      "min_width": null,
      "object_fit": null,
      "object_position": null,
      "order": null,
      "overflow": null,
      "overflow_x": null,
      "overflow_y": null,
      "padding": null,
      "right": null,
      "top": null,
      "visibility": null,
      "width": null
     }
    },
    "e269b0bd3896479c90c8aae78e217420": {
     "model_module": "@jupyter-widgets/controls",
     "model_name": "HBoxModel",
     "state": {
      "_dom_classes": [],
      "_model_module": "@jupyter-widgets/controls",
      "_model_module_version": "1.5.0",
      "_model_name": "HBoxModel",
      "_view_count": null,
      "_view_module": "@jupyter-widgets/controls",
      "_view_module_version": "1.5.0",
      "_view_name": "HBoxView",
      "box_style": "",
      "children": [
       "IPY_MODEL_047abe4663ed45b49bd873c495ea448a",
       "IPY_MODEL_ca225f7dab5a4e8bb88ae6f519fe4f2a"
      ],
      "layout": "IPY_MODEL_e6662a66bb4e41b1b66e4a2f6c0df055"
     }
    },
    "e331a09a78d843a7a0393b9430f5aa80": {
     "model_module": "@jupyter-widgets/base",
     "model_name": "LayoutModel",
     "state": {
      "_model_module": "@jupyter-widgets/base",
      "_model_module_version": "1.2.0",
      "_model_name": "LayoutModel",
      "_view_count": null,
      "_view_module": "@jupyter-widgets/base",
      "_view_module_version": "1.2.0",
      "_view_name": "LayoutView",
      "align_content": null,
      "align_items": null,
      "align_self": null,
      "border": null,
      "bottom": null,
      "display": null,
      "flex": null,
      "flex_flow": null,
      "grid_area": null,
      "grid_auto_columns": null,
      "grid_auto_flow": null,
      "grid_auto_rows": null,
      "grid_column": null,
      "grid_gap": null,
      "grid_row": null,
      "grid_template_areas": null,
      "grid_template_columns": null,
      "grid_template_rows": null,
      "height": null,
      "justify_content": null,
      "justify_items": null,
      "left": null,
      "margin": null,
      "max_height": null,
      "max_width": null,
      "min_height": null,
      "min_width": null,
      "object_fit": null,
      "object_position": null,
      "order": null,
      "overflow": null,
      "overflow_x": null,
      "overflow_y": null,
      "padding": null,
      "right": null,
      "top": null,
      "visibility": null,
      "width": null
     }
    },
    "e6662a66bb4e41b1b66e4a2f6c0df055": {
     "model_module": "@jupyter-widgets/base",
     "model_name": "LayoutModel",
     "state": {
      "_model_module": "@jupyter-widgets/base",
      "_model_module_version": "1.2.0",
      "_model_name": "LayoutModel",
      "_view_count": null,
      "_view_module": "@jupyter-widgets/base",
      "_view_module_version": "1.2.0",
      "_view_name": "LayoutView",
      "align_content": null,
      "align_items": null,
      "align_self": null,
      "border": null,
      "bottom": null,
      "display": null,
      "flex": null,
      "flex_flow": null,
      "grid_area": null,
      "grid_auto_columns": null,
      "grid_auto_flow": null,
      "grid_auto_rows": null,
      "grid_column": null,
      "grid_gap": null,
      "grid_row": null,
      "grid_template_areas": null,
      "grid_template_columns": null,
      "grid_template_rows": null,
      "height": null,
      "justify_content": null,
      "justify_items": null,
      "left": null,
      "margin": null,
      "max_height": null,
      "max_width": null,
      "min_height": null,
      "min_width": null,
      "object_fit": null,
      "object_position": null,
      "order": null,
      "overflow": null,
      "overflow_x": null,
      "overflow_y": null,
      "padding": null,
      "right": null,
      "top": null,
      "visibility": null,
      "width": null
     }
    },
    "eddaeb2d98704eb6ad0378afa316d93b": {
     "model_module": "@jupyter-widgets/controls",
     "model_name": "HBoxModel",
     "state": {
      "_dom_classes": [],
      "_model_module": "@jupyter-widgets/controls",
      "_model_module_version": "1.5.0",
      "_model_name": "HBoxModel",
      "_view_count": null,
      "_view_module": "@jupyter-widgets/controls",
      "_view_module_version": "1.5.0",
      "_view_name": "HBoxView",
      "box_style": "",
      "children": [
       "IPY_MODEL_01e65f5a9bf04c25b94d2654d393d2bf",
       "IPY_MODEL_bbad05a7747d4a299d0847d5777fce5c"
      ],
      "layout": "IPY_MODEL_bcd8186cfc7345afa5b7362a2886e551"
     }
    }
   }
  }
 },
 "nbformat": 4,
 "nbformat_minor": 4
}
