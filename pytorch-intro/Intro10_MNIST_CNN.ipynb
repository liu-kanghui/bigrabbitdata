{
 "cells": [
  {
   "cell_type": "markdown",
   "metadata": {
    "colab_type": "text",
    "id": "ZB-cZ7Ov81r9"
   },
   "source": [
    "## Import"
   ]
  },
  {
   "cell_type": "code",
   "execution_count": 1,
   "metadata": {
    "colab": {},
    "colab_type": "code",
    "id": "y9ilUx3EcZqv"
   },
   "outputs": [],
   "source": [
    "import torch\n",
    "import matplotlib.pyplot as plt \n",
    "import numpy as np\n",
    "import torch.nn.functional as F\n",
    "from torch import nn\n",
    "from torchvision import datasets, transforms\n",
    "\n",
    "import PIL.ImageOps\n",
    "import requests\n",
    "from PIL import Image"
   ]
  },
  {
   "cell_type": "code",
   "execution_count": 2,
   "metadata": {
    "colab": {
     "base_uri": "https://localhost:8080/",
     "height": 51
    },
    "colab_type": "code",
    "id": "nz4hFcMSccRC",
    "outputId": "a382ab77-9091-4c25-e963-1d3429b79849"
   },
   "outputs": [
    {
     "name": "stdout",
     "output_type": "stream",
     "text": [
      "length of training_dataset:  60000\n",
      "length of validation_dataset:  10000\n"
     ]
    }
   ],
   "source": [
    "transform  = transforms.Compose([transforms.Resize((28,28)),\n",
    "                                 transforms.ToTensor()\n",
    "                                ])\n",
    "training_dataset = datasets.MNIST(root='./mnist', train=True, \n",
    "                                  download=True, transform= transform)\n",
    "validation_dataset = datasets.MNIST(root='./mnist', train=False, \n",
    "                                  download=True, transform= transform) \n",
    "\n",
    "print (\"length of training_dataset: \", len(training_dataset))\n",
    "print (\"length of validation_dataset: \", len(validation_dataset))"
   ]
  },
  {
   "cell_type": "markdown",
   "metadata": {
    "colab_type": "text",
    "id": "JsLeMcZC843X"
   },
   "source": [
    "## LeNet Model"
   ]
  },
  {
   "cell_type": "code",
   "execution_count": 3,
   "metadata": {
    "colab": {},
    "colab_type": "code",
    "id": "FtK1IpYVcc05"
   },
   "outputs": [],
   "source": [
    "class LeNet(nn.Module):\n",
    "    def __init__(self):\n",
    "      super().__init__()\n",
    "      self.conv1 = nn.Conv2d(in_channels=1, out_channels= 6, kernel_size=5)\n",
    "      self.conv2 = nn.Conv2d(6, 16, 5)\n",
    "      self.fc1 = nn.Linear(4*4*16, 120)\n",
    "      self.fc2 = nn.Linear(120, 84)\n",
    "      self.output = nn.Linear(84, 10)\n",
    "    def forward(self, x):\n",
    "      x = F.relu(self.conv1(x))\n",
    "      x = F.max_pool2d(x, 2, 2)\n",
    "      x = F.relu(self.conv2(x))\n",
    "      x = F.max_pool2d(x, 2, 2)\n",
    "      x = x.view(-1, 4*4*16)\n",
    "      x = F.relu(self.fc1(x))\n",
    "      x = F.relu(self.fc2(x))\n",
    "      x = self.output(x)\n",
    "      return x"
   ]
  },
  {
   "cell_type": "markdown",
   "metadata": {
    "colab_type": "text",
    "id": "pz-PmzfZ88It"
   },
   "source": [
    "## Define our model"
   ]
  },
  {
   "cell_type": "code",
   "execution_count": 4,
   "metadata": {
    "colab": {
     "base_uri": "https://localhost:8080/",
     "height": 136
    },
    "colab_type": "code",
    "id": "V-AkiqtCcfom",
    "outputId": "5a9ca492-6b7c-4a74-c43d-79f12af235a4"
   },
   "outputs": [
    {
     "name": "stdout",
     "output_type": "stream",
     "text": [
      "LeNet(\n",
      "  (conv1): Conv2d(1, 6, kernel_size=(5, 5), stride=(1, 1))\n",
      "  (conv2): Conv2d(6, 16, kernel_size=(5, 5), stride=(1, 1))\n",
      "  (fc1): Linear(in_features=256, out_features=120, bias=True)\n",
      "  (fc2): Linear(in_features=120, out_features=84, bias=True)\n",
      "  (output): Linear(in_features=84, out_features=10, bias=True)\n",
      ")\n"
     ]
    }
   ],
   "source": [
    "model = LeNet()\n",
    "print (model)"
   ]
  },
  {
   "cell_type": "code",
   "execution_count": 5,
   "metadata": {
    "colab": {},
    "colab_type": "code",
    "id": "2Dnl9N5MchcB"
   },
   "outputs": [],
   "source": [
    "training_loader = torch.utils.data.DataLoader(dataset=training_dataset, \n",
    "                                              batch_size=100,\n",
    "                                              shuffle=True)\n",
    "   \n",
    "validation_loader = torch.utils.data.DataLoader(dataset=validation_dataset, \n",
    "                                              batch_size=100,\n",
    "                                              shuffle=True)"
   ]
  },
  {
   "cell_type": "markdown",
   "metadata": {
    "colab_type": "text",
    "id": "yUKrvlWR8-xS"
   },
   "source": [
    "## Training in Action"
   ]
  },
  {
   "cell_type": "code",
   "execution_count": 6,
   "metadata": {
    "colab": {
     "base_uri": "https://localhost:8080/",
     "height": 476
    },
    "colab_type": "code",
    "id": "R6LPS1cVciub",
    "outputId": "6f9af6d1-474d-4264-c4bc-7dfb2d81274c"
   },
   "outputs": [
    {
     "name": "stdout",
     "output_type": "stream",
     "text": [
      "Train Epoch: 1 [10000/60000 (17%)] Loss: 0.517122\n",
      "Train Epoch: 1 [20000/60000 (33%)] Loss: 0.131677\n",
      "Train Epoch: 1 [30000/60000 (50%)] Loss: 0.119444\n",
      "Train Epoch: 1 [40000/60000 (67%)] Loss: 0.106806\n",
      "Train Epoch: 1 [50000/60000 (83%)] Loss: 0.092186\n",
      "Train Epoch: 1 [60000/60000 (100%)] Loss: 0.088072\n",
      "epoch : 1\n",
      "Train set: Accuracy: 56737.0/60000 (95%), Average Loss: 0.175884\n",
      "Validation set: Accuracy: 9666.0/10000 (97%), Average Loss: 0.018122\n",
      "Train Epoch: 2 [10000/60000 (17%)] Loss: 0.064115\n",
      "Train Epoch: 2 [20000/60000 (33%)] Loss: 0.073565\n",
      "Train Epoch: 2 [30000/60000 (50%)] Loss: 0.065498\n",
      "Train Epoch: 2 [40000/60000 (67%)] Loss: 0.073791\n",
      "Train Epoch: 2 [50000/60000 (83%)] Loss: 0.071185\n",
      "Train Epoch: 2 [60000/60000 (100%)] Loss: 0.066775\n",
      "epoch : 2\n",
      "Train set: Accuracy: 58757.0/60000 (98%), Average Loss: 0.069155\n",
      "Validation set: Accuracy: 9827.0/10000 (98%), Average Loss: 0.011335\n",
      "Train Epoch: 3 [10000/60000 (17%)] Loss: 0.069367\n",
      "Train Epoch: 3 [20000/60000 (33%)] Loss: 0.067391\n",
      "Train Epoch: 3 [30000/60000 (50%)] Loss: 0.059532\n",
      "Train Epoch: 3 [40000/60000 (67%)] Loss: 0.065271\n",
      "Train Epoch: 3 [50000/60000 (83%)] Loss: 0.065656\n",
      "Train Epoch: 3 [60000/60000 (100%)] Loss: 0.063150\n",
      "epoch : 3\n",
      "Train set: Accuracy: 58899.0/60000 (98%), Average Loss: 0.065061\n",
      "Validation set: Accuracy: 9825.0/10000 (98%), Average Loss: 0.011170\n"
     ]
    }
   ],
   "source": [
    "# Cross Entropy Loss with Adam Optimizer \n",
    "criterion = nn.CrossEntropyLoss()\n",
    "optimizer = torch.optim.Adam(model.parameters(), lr = 0.01)\n",
    "\n",
    "epochs = 3\n",
    "\n",
    "for e in range(epochs):\n",
    "\n",
    "    train_corrects = 0.0 \n",
    "    train_batch_loss = 0.0\n",
    "    train_epoch_loss = 0.0\n",
    "    val_corrects = 0.0\n",
    "    val_epoch_loss = 0.0\n",
    "    \n",
    "    # loop through 60000 samples 100 at a time\n",
    "    for batch_idx, data in enumerate(training_loader, start=1):\n",
    "        inputs = data[0]\n",
    "        labels = data[1]\n",
    "        outputs = model(inputs)\n",
    "        loss = criterion(outputs, labels)\n",
    "\n",
    "        optimizer.zero_grad()\n",
    "        loss.backward()\n",
    "        optimizer.step()\n",
    "\n",
    "        # Return the index of the highest possibility\n",
    "        # which are the predicted labels\n",
    "        _, preds = torch.max(outputs, 1)\n",
    "        train_batch_loss += loss.item()\n",
    "\n",
    "        # sum up all the correct prediction\n",
    "        # since (preds==labels).sum() is a tensor\n",
    "        # we use item() to extract the number\n",
    "        train_corrects += (preds == labels).sum().item()\n",
    "\n",
    "        # print training loss every 100 mini-batch\n",
    "        # train_batch_loss is the average loss for 100 mini-batch\n",
    "        if batch_idx % 100 == 0:\n",
    "            print('Train Epoch: {} [{}/{} ({:.0f}%)] Loss: {:.6f}'.format(\n",
    "                   e + 1 , \n",
    "                   batch_idx * len(data[0]), \n",
    "                   len(training_loader.dataset),\n",
    "                   100.* batch_idx * len(data[0]) / len(training_loader.dataset), \n",
    "                   train_batch_loss / 100 ))\n",
    "            # accumulate loss for the epoch\n",
    "            train_epoch_loss += train_batch_loss\n",
    "            # reset the loss for every mini-batch\n",
    "            train_batch_loss = 0.0\n",
    "    else:\n",
    "        # torch.no_grad deactivate the auograd engine, \n",
    "        # reduce memory usage and speed up computations\n",
    "        with torch.no_grad():\n",
    "            for val_data in validation_loader:\n",
    "                val_inputs = val_data[0]\n",
    "                val_labels = val_data[1]\n",
    "                val_outputs = model(val_inputs)\n",
    "                val_loss = criterion(val_outputs, val_labels)\n",
    "\n",
    "                _, val_preds = torch.max(val_outputs, 1)\n",
    "                val_epoch_loss += val_loss.item()\n",
    "                val_corrects += (val_preds == val_labels).sum().item()\n",
    "\n",
    "\n",
    "        # print result for every epoch \n",
    "        train_accuracy = 100. * train_corrects / len(training_loader.dataset)\n",
    "        # here batch_idx is the total number of mini-batch = 600\n",
    "        train_epoch_loss /= batch_idx\n",
    "\n",
    "        print('epoch :', (e+1))\n",
    "        print('Train set: Accuracy: {}/{} ({:.0f}%), Average Loss: {:.6f}'.format(\n",
    "                train_corrects, len(training_loader.dataset),\n",
    "                train_accuracy, train_epoch_loss))\n",
    "\n",
    "\n",
    "        \n",
    "        val_accuracy = 100. * val_corrects / len(validation_loader.dataset)\n",
    "        val_epoch_loss /= batch_idx\n",
    "\n",
    "        print('Validation set: Accuracy: {}/{} ({:.0f}%), Average Loss: {:.6f}'.format(\n",
    "                val_corrects, len(validation_loader.dataset),\n",
    "                val_accuracy, val_epoch_loss))"
   ]
  },
  {
   "cell_type": "markdown",
   "metadata": {
    "colab_type": "text",
    "id": "sHWAaN5o9Cjs"
   },
   "source": [
    "## Visualize Validation Set Prediciton vs. Ground Truth"
   ]
  },
  {
   "cell_type": "code",
   "execution_count": 9,
   "metadata": {
    "colab": {
     "base_uri": "https://localhost:8080/",
     "height": 707
    },
    "colab_type": "code",
    "id": "IC-_HSI18eKj",
    "outputId": "beaf653b-3bac-42e4-9207-f024652b9770"
   },
   "outputs": [
    {
     "data": {
      "image/png": "[encoded data removed]",
      "text/plain": [
       "<Figure size 720x720 with 20 Axes>"
      ]
     },
     "metadata": {
      "needs_background": "light"
     },
     "output_type": "display_data"
    }
   ],
   "source": [
    "# Visualize predicted labels Vs. ground truth\n",
    "dataiter = iter(validation_loader)\n",
    "\n",
    "# Get one batch (100 samples) from validation dataset\n",
    "images, labels = dataiter.next()\n",
    "output = model(images)\n",
    "_, preds = torch.max(output, 1)\n",
    "\n",
    "fig = plt.figure(figsize=(10, 10))\n",
    "\n",
    "# Print the first 20 images\n",
    "for idx in range(1, 21):\n",
    "    ax = fig.add_subplot(4, 5, idx)\n",
    "    plt.title(\"{} ({})\".format(str(preds[idx].item()), \n",
    "                              str(labels[idx].item())), \n",
    "                        color=(\"green\" if preds[idx]==labels[idx] else \"red\"))\n",
    "    plt.imshow(transforms.ToPILImage()(images[idx]), cmap='gray')\n",
    "plt.tight_layout()\n",
    "plt.show()"
   ]
  },
  {
   "cell_type": "markdown",
   "metadata": {
    "colab_type": "text",
    "id": "iRAOp7jl9Hcp"
   },
   "source": [
    "## Predict Images from the Web"
   ]
  },
  {
   "cell_type": "code",
   "execution_count": 8,
   "metadata": {
    "colab": {
     "base_uri": "https://localhost:8080/",
     "height": 282
    },
    "colab_type": "code",
    "id": "uHMjyvXS8nrS",
    "outputId": "24163289-ef16-4754-b265-cf977a649593"
   },
   "outputs": [
    {
     "name": "stdout",
     "output_type": "stream",
     "text": [
      "our predicted result is  3\n"
     ]
    },
    {
     "data": {
      "image/png": "[encoded data removed]",
      "text/plain": [
       "<Figure size 432x288 with 1 Axes>"
      ]
     },
     "metadata": {
      "needs_background": "light"
     },
     "output_type": "display_data"
    }
   ],
   "source": [
    "# Test on data from online\n",
    "url = 'https://upload.wikimedia.org/wikipedia/commons/c/c5/Number-One.JPG'\n",
    "response = requests.get(url, stream = True)\n",
    "img = Image.open(response.raw)\n",
    "plt.imshow(img)\n",
    "\n",
    "# invert the back and white part \n",
    "# so it matches with our training data\n",
    "img = PIL.ImageOps.invert(img)\n",
    "\n",
    "# convert image to grey-scaled. \n",
    "# so the color channel would be 1 \n",
    "img = img.convert('L')\n",
    "img = transform(img) \n",
    "plt.imshow(transforms.ToPILImage()(img), cmap='gray')\n",
    "\n",
    "\n",
    "output = model(img.unsqueeze(0))\n",
    "_, pred = torch.max(output, 1)\n",
    "print(\"our predicted result is \", pred.item())"
   ]
  },
  {
   "cell_type": "markdown",
   "metadata": {
    "colab_type": "text",
    "id": "df1_MW408z_Z"
   },
   "source": []
  },
  {
   "cell_type": "markdown",
   "metadata": {
    "colab_type": "text",
    "id": "qDdKW_Ex802X"
   },
   "source": []
  }
 ],
 "metadata": {
  "colab": {
   "collapsed_sections": [],
   "name": "Pytorch 10: MNIST- Convolutional Neural Network",
   "provenance": []
  },
  "kernelspec": {
   "display_name": "Python 3",
   "language": "python",
   "name": "python3"
  },
  "language_info": {
   "codemirror_mode": {
    "name": "ipython",
    "version": 3
   },
   "file_extension": ".py",
   "mimetype": "text/x-python",
   "name": "python",
   "nbconvert_exporter": "python",
   "pygments_lexer": "ipython3",
   "version": "3.8.3"
  }
 },
 "nbformat": 4,
 "nbformat_minor": 4
}
