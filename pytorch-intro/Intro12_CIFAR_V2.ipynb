{
 "cells": [
  {
   "cell_type": "code",
   "execution_count": null,
   "metadata": {
    "colab": {},
    "colab_type": "code",
    "id": "joVBzx_67BjN"
   },
   "outputs": [],
   "source": [
    "import torch\n",
    "import matplotlib.pyplot as plt \n",
    "import numpy as np\n",
    "import torch.nn.functional as F\n",
    "from torch import nn\n",
    "from torchvision import datasets, transforms\n",
    "\n",
    "import PIL.ImageOps\n",
    "import requests\n",
    "from PIL import Image"
   ]
  },
  {
   "cell_type": "markdown",
   "metadata": {
    "colab_type": "text",
    "id": "RHcpXtTNaCLt"
   },
   "source": [
    "## Data Augmentation for Training data"
   ]
  },
  {
   "cell_type": "code",
   "execution_count": null,
   "metadata": {
    "colab": {
     "base_uri": "https://localhost:8080/",
     "height": 51
    },
    "colab_type": "code",
    "id": "QWAcFfg574GU",
    "outputId": "1b6e22cf-23ba-4e22-cbf6-30ce14127e5b"
   },
   "outputs": [
    {
     "name": "stdout",
     "output_type": "stream",
     "text": [
      "Files already downloaded and verified\n",
      "Files already downloaded and verified\n"
     ]
    }
   ],
   "source": [
    "transform  = transforms.Compose([transforms.Resize((32,32)),\n",
    "                                 transforms.ToTensor()\n",
    "                                ])\n",
    "transform_train = transforms.Compose([transforms.Resize((32,32)),\n",
    "                                      transforms.RandomHorizontalFlip(),\n",
    "                                      transforms.RandomRotation(10),\n",
    "                                      transforms.RandomAffine(0, shear=10, scale=(0.8,1.2)),\n",
    "                                      transforms.ColorJitter(brightness=0.2, contrast=0.2, saturation=0.2),\n",
    "                                      transforms.ToTensor()\n",
    "                               ])\n",
    "\n",
    "training_dataset = datasets.CIFAR10(root='./cifar10', train=True, \n",
    "                                  download=True, transform= transform_train)\n",
    "validation_dataset = datasets.CIFAR10(root='./cifar10', train=False, \n",
    "                                  download=True, transform= transform) "
   ]
  },
  {
   "cell_type": "markdown",
   "metadata": {
    "colab_type": "text",
    "id": "4lQTuzOsaFvH"
   },
   "source": [
    "## Adjust model architecture"
   ]
  },
  {
   "cell_type": "code",
   "execution_count": null,
   "metadata": {
    "colab": {},
    "colab_type": "code",
    "id": "0u4k_DIh77oC"
   },
   "outputs": [],
   "source": [
    "class LeNet(nn.Module):\n",
    "    def __init__(self):\n",
    "      super().__init__()\n",
    "      self.conv1 = nn.Conv2d(in_channels=3, out_channels= 6, kernel_size=3, padding=1)\n",
    "      self.conv2 = nn.Conv2d(6, 16, 3, padding=1)\n",
    "      self.conv3 = nn.Conv2d(16, 32, 3, padding=1)\n",
    "      self.fc1 = nn.Linear(4*4*32, 120)\n",
    "      self.fc2 = nn.Linear(120, 84)\n",
    "      self.output = nn.Linear(84, 10)\n",
    "    def forward(self, x):\n",
    "      x = F.relu(self.conv1(x))\n",
    "      x = F.max_pool2d(x, 2, 2)\n",
    "      x = F.relu(self.conv2(x))\n",
    "      x = F.max_pool2d(x, 2, 2)\n",
    "      x = F.relu(self.conv3(x))\n",
    "      x = F.max_pool2d(x, 2, 2)\n",
    "      x = x.view(-1, 4*4*32)\n",
    "      x = F.relu(self.fc1(x))\n",
    "      x = F.relu(self.fc2(x))\n",
    "      x = self.output(x)\n",
    "      return x"
   ]
  },
  {
   "cell_type": "code",
   "execution_count": null,
   "metadata": {
    "colab": {
     "base_uri": "https://localhost:8080/",
     "height": 1000
    },
    "colab_type": "code",
    "id": "CFElHQGw78Yq",
    "outputId": "71d4b4c2-9a46-4be3-f0e2-db201b12470f"
   },
   "outputs": [
    {
     "name": "stdout",
     "output_type": "stream",
     "text": [
      "Train Epoch: 1 [10000/50000 (20%)] Loss: 2.244431\n",
      "Train Epoch: 1 [20000/50000 (40%)] Loss: 2.047199\n",
      "Train Epoch: 1 [30000/50000 (60%)] Loss: 1.922102\n",
      "Train Epoch: 1 [40000/50000 (80%)] Loss: 1.859532\n",
      "Train Epoch: 1 [50000/50000 (100%)] Loss: 1.832186\n",
      "epoch : 1\n",
      "Train set: Accuracy: 12721.0/50000 (25%), Average Loss: 1.981090\n",
      "Validation set: Accuracy: 3520.0/10000 (35%), Average Loss: 0.350323\n",
      "Train Epoch: 2 [10000/50000 (20%)] Loss: 1.780566\n",
      "Train Epoch: 2 [20000/50000 (40%)] Loss: 1.773367\n",
      "Train Epoch: 2 [30000/50000 (60%)] Loss: 1.753612\n",
      "Train Epoch: 2 [40000/50000 (80%)] Loss: 1.714844\n",
      "Train Epoch: 2 [50000/50000 (100%)] Loss: 1.679700\n",
      "epoch : 2\n",
      "Train set: Accuracy: 17714.0/50000 (35%), Average Loss: 1.740418\n",
      "Validation set: Accuracy: 3885.0/10000 (39%), Average Loss: 0.330805\n",
      "Train Epoch: 3 [10000/50000 (20%)] Loss: 1.656753\n",
      "Train Epoch: 3 [20000/50000 (40%)] Loss: 1.652677\n",
      "Train Epoch: 3 [30000/50000 (60%)] Loss: 1.630836\n",
      "Train Epoch: 3 [40000/50000 (80%)] Loss: 1.619443\n",
      "Train Epoch: 3 [50000/50000 (100%)] Loss: 1.616452\n",
      "epoch : 3\n",
      "Train set: Accuracy: 19972.0/50000 (40%), Average Loss: 1.635232\n",
      "Validation set: Accuracy: 4247.0/10000 (42%), Average Loss: 0.313432\n",
      "Train Epoch: 4 [10000/50000 (20%)] Loss: 1.594367\n",
      "Train Epoch: 4 [20000/50000 (40%)] Loss: 1.572817\n",
      "Train Epoch: 4 [30000/50000 (60%)] Loss: 1.566038\n",
      "Train Epoch: 4 [40000/50000 (80%)] Loss: 1.572215\n",
      "Train Epoch: 4 [50000/50000 (100%)] Loss: 1.556289\n",
      "epoch : 4\n",
      "Train set: Accuracy: 21068.0/50000 (42%), Average Loss: 1.572345\n",
      "Validation set: Accuracy: 4500.0/10000 (45%), Average Loss: 0.298181\n",
      "Train Epoch: 5 [10000/50000 (20%)] Loss: 1.561375\n",
      "Train Epoch: 5 [20000/50000 (40%)] Loss: 1.545657\n",
      "Train Epoch: 5 [30000/50000 (60%)] Loss: 1.522031\n",
      "Train Epoch: 5 [40000/50000 (80%)] Loss: 1.543391\n",
      "Train Epoch: 5 [50000/50000 (100%)] Loss: 1.528787\n",
      "epoch : 5\n",
      "Train set: Accuracy: 21843.0/50000 (44%), Average Loss: 1.540248\n",
      "Validation set: Accuracy: 4704.0/10000 (47%), Average Loss: 0.290160\n",
      "Train Epoch: 6 [10000/50000 (20%)] Loss: 1.540814\n",
      "Train Epoch: 6 [20000/50000 (40%)] Loss: 1.515226\n",
      "Train Epoch: 6 [30000/50000 (60%)] Loss: 1.492112\n",
      "Train Epoch: 6 [40000/50000 (80%)] Loss: 1.502955\n",
      "Train Epoch: 6 [50000/50000 (100%)] Loss: 1.497694\n",
      "epoch : 6\n",
      "Train set: Accuracy: 22455.0/50000 (45%), Average Loss: 1.509760\n",
      "Validation set: Accuracy: 4859.0/10000 (49%), Average Loss: 0.283596\n",
      "Train Epoch: 7 [10000/50000 (20%)] Loss: 1.480934\n",
      "Train Epoch: 7 [20000/50000 (40%)] Loss: 1.497057\n",
      "Train Epoch: 7 [30000/50000 (60%)] Loss: 1.481620\n",
      "Train Epoch: 7 [40000/50000 (80%)] Loss: 1.468738\n",
      "Train Epoch: 7 [50000/50000 (100%)] Loss: 1.466329\n",
      "epoch : 7\n",
      "Train set: Accuracy: 22983.0/50000 (46%), Average Loss: 1.478936\n",
      "Validation set: Accuracy: 4783.0/10000 (48%), Average Loss: 0.283396\n",
      "Train Epoch: 8 [10000/50000 (20%)] Loss: 1.485885\n",
      "Train Epoch: 8 [20000/50000 (40%)] Loss: 1.462399\n",
      "Train Epoch: 8 [30000/50000 (60%)] Loss: 1.465576\n",
      "Train Epoch: 8 [40000/50000 (80%)] Loss: 1.437258\n",
      "Train Epoch: 8 [50000/50000 (100%)] Loss: 1.444758\n",
      "epoch : 8\n",
      "Train set: Accuracy: 23388.0/50000 (47%), Average Loss: 1.459175\n",
      "Validation set: Accuracy: 4988.0/10000 (50%), Average Loss: 0.276939\n",
      "Train Epoch: 9 [10000/50000 (20%)] Loss: 1.447002\n",
      "Train Epoch: 9 [20000/50000 (40%)] Loss: 1.455362\n",
      "Train Epoch: 9 [30000/50000 (60%)] Loss: 1.420824\n",
      "Train Epoch: 9 [40000/50000 (80%)] Loss: 1.423866\n",
      "Train Epoch: 9 [50000/50000 (100%)] Loss: 1.437779\n",
      "epoch : 9\n",
      "Train set: Accuracy: 24122.0/50000 (48%), Average Loss: 1.436967\n",
      "Validation set: Accuracy: 5034.0/10000 (50%), Average Loss: 0.273213\n",
      "Train Epoch: 10 [10000/50000 (20%)] Loss: 1.422664\n",
      "Train Epoch: 10 [20000/50000 (40%)] Loss: 1.411485\n",
      "Train Epoch: 10 [30000/50000 (60%)] Loss: 1.417502\n",
      "Train Epoch: 10 [40000/50000 (80%)] Loss: 1.401525\n",
      "Train Epoch: 10 [50000/50000 (100%)] Loss: 1.421278\n",
      "epoch : 10\n",
      "Train set: Accuracy: 24255.0/50000 (49%), Average Loss: 1.414891\n",
      "Validation set: Accuracy: 5120.0/10000 (51%), Average Loss: 0.266725\n",
      "Train Epoch: 11 [10000/50000 (20%)] Loss: 1.407821\n",
      "Train Epoch: 11 [20000/50000 (40%)] Loss: 1.390095\n",
      "Train Epoch: 11 [30000/50000 (60%)] Loss: 1.405770\n",
      "Train Epoch: 11 [40000/50000 (80%)] Loss: 1.409026\n",
      "Train Epoch: 11 [50000/50000 (100%)] Loss: 1.400216\n",
      "epoch : 11\n",
      "Train set: Accuracy: 24427.0/50000 (49%), Average Loss: 1.402586\n",
      "Validation set: Accuracy: 5252.0/10000 (53%), Average Loss: 0.262925\n",
      "Train Epoch: 12 [10000/50000 (20%)] Loss: 1.386742\n",
      "Train Epoch: 12 [20000/50000 (40%)] Loss: 1.365093\n",
      "Train Epoch: 12 [30000/50000 (60%)] Loss: 1.372999\n",
      "Train Epoch: 12 [40000/50000 (80%)] Loss: 1.383942\n",
      "Train Epoch: 12 [50000/50000 (100%)] Loss: 1.383304\n",
      "epoch : 12\n",
      "Train set: Accuracy: 25046.0/50000 (50%), Average Loss: 1.378416\n",
      "Validation set: Accuracy: 5306.0/10000 (53%), Average Loss: 0.261913\n",
      "Train Epoch: 13 [10000/50000 (20%)] Loss: 1.389712\n",
      "Train Epoch: 13 [20000/50000 (40%)] Loss: 1.346409\n",
      "Train Epoch: 13 [30000/50000 (60%)] Loss: 1.374031\n",
      "Train Epoch: 13 [40000/50000 (80%)] Loss: 1.344396\n",
      "Train Epoch: 13 [50000/50000 (100%)] Loss: 1.361466\n",
      "epoch : 13\n",
      "Train set: Accuracy: 25332.0/50000 (51%), Average Loss: 1.363203\n",
      "Validation set: Accuracy: 5318.0/10000 (53%), Average Loss: 0.257394\n",
      "Train Epoch: 14 [10000/50000 (20%)] Loss: 1.342343\n",
      "Train Epoch: 14 [20000/50000 (40%)] Loss: 1.357814\n",
      "Train Epoch: 14 [30000/50000 (60%)] Loss: 1.354124\n",
      "Train Epoch: 14 [40000/50000 (80%)] Loss: 1.358770\n",
      "Train Epoch: 14 [50000/50000 (100%)] Loss: 1.332528\n",
      "epoch : 14\n",
      "Train set: Accuracy: 25571.0/50000 (51%), Average Loss: 1.349116\n",
      "Validation set: Accuracy: 5373.0/10000 (54%), Average Loss: 0.257538\n",
      "Train Epoch: 15 [10000/50000 (20%)] Loss: 1.342046\n",
      "Train Epoch: 15 [20000/50000 (40%)] Loss: 1.332415\n",
      "Train Epoch: 15 [30000/50000 (60%)] Loss: 1.345395\n",
      "Train Epoch: 15 [40000/50000 (80%)] Loss: 1.318105\n",
      "Train Epoch: 15 [50000/50000 (100%)] Loss: 1.336733\n",
      "epoch : 15\n",
      "Train set: Accuracy: 25926.0/50000 (52%), Average Loss: 1.334939\n",
      "Validation set: Accuracy: 5344.0/10000 (53%), Average Loss: 0.255711\n"
     ]
    }
   ],
   "source": [
    "device = 'cpu'\n",
    "if torch.cuda.is_available():\n",
    "    device = torch.device('cuda')\n",
    "\n",
    "model = LeNet().to(device)\n",
    "\n",
    "training_loader = torch.utils.data.DataLoader(dataset=training_dataset, \n",
    "                                              batch_size=100,\n",
    "                                              shuffle=True)\n",
    "   \n",
    "validation_loader = torch.utils.data.DataLoader(dataset=validation_dataset, \n",
    "                                              batch_size=100,\n",
    "                                              shuffle=True)\n",
    "\n",
    "# Cross Entropy Loss with Adam Optimizer \n",
    "criterion = nn.CrossEntropyLoss()\n",
    "optimizer = torch.optim.Adam(model.parameters(), lr = 0.001)\n",
    "\n",
    "train_corrects_history = []\n",
    "val_corrects_history = []\n",
    "\n",
    "epochs = 15\n",
    "for e in range(epochs):\n",
    "\n",
    "    train_corrects = 0.0 \n",
    "    train_batch_loss = 0.0\n",
    "    train_epoch_loss = 0.0\n",
    "    val_corrects = 0.0\n",
    "    val_epoch_loss = 0.0\n",
    "    \n",
    "    # loop through 60000 samples 100 at a time\n",
    "    for batch_idx, data in enumerate(training_loader, start=1):\n",
    "        inputs = data[0].to(device)\n",
    "        labels = data[1].to(device)\n",
    "        outputs = model(inputs)\n",
    "        loss = criterion(outputs, labels)\n",
    "\n",
    "        optimizer.zero_grad()\n",
    "        loss.backward()\n",
    "        optimizer.step()\n",
    "\n",
    "        # Return the index of the highest possibility\n",
    "        # which are the predicted labels\n",
    "        _, preds = torch.max(outputs, 1)\n",
    "        train_batch_loss += loss.item()\n",
    "\n",
    "        # sum up all the correct prediction\n",
    "        # since (preds==labels).sum() is a tensor\n",
    "        # we use item() to extract the number\n",
    "        train_corrects += (preds == labels).sum().item()\n",
    "\n",
    "        # print training loss every 100 mini-batch\n",
    "        # train_batch_loss is the average loss for 100 mini-batch\n",
    "        if batch_idx % 100 == 0:\n",
    "            print('Train Epoch: {} [{}/{} ({:.0f}%)] Loss: {:.6f}'.format(\n",
    "                   e + 1 , \n",
    "                   batch_idx * len(data[0]), \n",
    "                   len(training_loader.dataset),\n",
    "                   100.* batch_idx * len(data[0]) / len(training_loader.dataset), \n",
    "                   train_batch_loss / 100 ))\n",
    "            # accumulate loss for the epoch\n",
    "            train_epoch_loss += train_batch_loss\n",
    "            # reset the loss for every mini-batch\n",
    "            train_batch_loss = 0.0\n",
    "    else:\n",
    "        # torch.no_grad deactivate the auograd engine, \n",
    "        # reduce memory usage and speed up computations\n",
    "        with torch.no_grad():\n",
    "            for val_data in validation_loader:\n",
    "                val_inputs = val_data[0].to(device)\n",
    "                val_labels = val_data[1].to(device)\n",
    "                val_outputs = model(val_inputs)\n",
    "                val_loss = criterion(val_outputs, val_labels)\n",
    "\n",
    "                _, val_preds = torch.max(val_outputs, 1)\n",
    "                val_epoch_loss += val_loss.item()\n",
    "                val_corrects += (val_preds == val_labels).sum().item()\n",
    "\n",
    "\n",
    "        # print result for every epoch \n",
    "        train_accuracy = 100. * train_corrects / len(training_loader.dataset)\n",
    "        train_corrects_history.append(train_accuracy)\n",
    "        # here batch_idx is the total number of mini-batch = 600\n",
    "        train_epoch_loss /= batch_idx\n",
    "\n",
    "        print('epoch :', (e+1))\n",
    "        print('Train set: Accuracy: {}/{} ({:.0f}%), Average Loss: {:.6f}'.format(\n",
    "                train_corrects, len(training_loader.dataset),\n",
    "                train_accuracy, train_epoch_loss))\n",
    "\n",
    "\n",
    "        \n",
    "        val_accuracy = 100. * val_corrects / len(validation_loader.dataset)\n",
    "        val_corrects_history.append(val_accuracy)\n",
    "        val_epoch_loss /= batch_idx\n",
    "\n",
    "        print('Validation set: Accuracy: {}/{} ({:.0f}%), Average Loss: {:.6f}'.format(\n",
    "                val_corrects, len(validation_loader.dataset),\n",
    "                val_accuracy, val_epoch_loss))"
   ]
  },
  {
   "cell_type": "code",
   "execution_count": null,
   "metadata": {
    "colab": {
     "base_uri": "https://localhost:8080/",
     "height": 285
    },
    "colab_type": "code",
    "id": "6HD2kKFlFRw5",
    "outputId": "4740602d-36d2-4e48-ed80-bf7890f052d1"
   },
   "outputs": [
    {
     "data": {
      "text/plain": [
       "<matplotlib.legend.Legend at 0x7f5c31dfc358>"
      ]
     },
     "execution_count": 5,
     "metadata": {
      "tags": []
     },
     "output_type": "execute_result"
    },
    {
     "data": {
      "image/png": "[encoded data removed]",
      "text/plain": [
       "<Figure size 432x288 with 1 Axes>"
      ]
     },
     "metadata": {
      "needs_background": "light",
      "tags": []
     },
     "output_type": "display_data"
    }
   ],
   "source": [
    "plt.plot(train_corrects_history, label='training accuracy')\n",
    "plt.plot(val_corrects_history, label='validation accuracy')\n",
    "plt.legend()"
   ]
  }
 ],
 "metadata": {
  "colab": {
   "collapsed_sections": [],
   "name": "Pytorch 12: CIFAR10_V2",
   "provenance": []
  },
  "kernelspec": {
   "display_name": "Python 3",
   "language": "python",
   "name": "python3"
  },
  "language_info": {
   "codemirror_mode": {
    "name": "ipython",
    "version": 3
   },
   "file_extension": ".py",
   "mimetype": "text/x-python",
   "name": "python",
   "nbconvert_exporter": "python",
   "pygments_lexer": "ipython3",
   "version": "3.8.3"
  }
 },
 "nbformat": 4,
 "nbformat_minor": 4
}
