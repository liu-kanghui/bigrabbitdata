{
 "cells": [
  {
   "cell_type": "code",
   "execution_count": 171,
   "metadata": {},
   "outputs": [],
   "source": [
    "import torch\n",
    "import torch.nn as nn\n",
    "from torch.utils.data import Dataset\n",
    "\n",
    "import numpy as  np\n",
    "import pandas as pd\n",
    "import seaborn as sns\n",
    "import matplotlib.pyplot as plt\n",
    "from sklearn.preprocessing import StandardScaler"
   ]
  },
  {
   "cell_type": "markdown",
   "metadata": {},
   "source": [
    "## Load dataset with Pandas"
   ]
  },
  {
   "cell_type": "code",
   "execution_count": 172,
   "metadata": {},
   "outputs": [
    {
     "name": "stdout",
     "output_type": "stream",
     "text": [
      "Class\n",
      "negative    500\n",
      "positive    268\n",
      "dtype: int64\n",
      "dimension of diabetes data: (768, 8)\n"
     ]
    }
   ],
   "source": [
    "diabetes = pd.read_csv('diabetes.csv')\n",
    "\n",
    "# we want all column except the last columns for our feature\n",
    "x_features = diabetes.iloc[:, 0:-1].values \n",
    "\n",
    "# Our targets is the last column, 'negative/position'\n",
    "y_targets = diabetes.iloc[:, -1]\n",
    "\n",
    "print(diabetes.groupby('Class').size())\n",
    "print(\"dimension of diabetes data: {}\".format(diabetes.shape))"
   ]
  },
  {
   "cell_type": "code",
   "execution_count": 173,
   "metadata": {},
   "outputs": [
    {
     "data": {
      "text/plain": [
       "<matplotlib.axes._subplots.AxesSubplot at 0x2189d01e070>"
      ]
     },
     "execution_count": 173,
     "metadata": {},
     "output_type": "execute_result"
    },
    {
     "data": {
      "image/png": "[encoded data removed]",
      "text/plain": [
       "<Figure size 432x288 with 1 Axes>"
      ]
     },
     "metadata": {
      "needs_background": "light"
     },
     "output_type": "display_data"
    }
   ],
   "source": [
    "sns.countplot(diabetes['Class'],label=\"Count\")"
   ]
  },
  {
   "cell_type": "code",
   "execution_count": 174,
   "metadata": {},
   "outputs": [
    {
     "name": "stdout",
     "output_type": "stream",
     "text": [
      "<class 'pandas.core.frame.DataFrame'>\n",
      "RangeIndex: 768 entries, 0 to 767\n",
      "Data columns (total 8 columns):\n",
      " #   Column                        Non-Null Count  Dtype  \n",
      "---  ------                        --------------  -----  \n",
      " 0   Number of times pregnant      768 non-null    int64  \n",
      " 1   Plasma glucose concentration  768 non-null    int64  \n",
      " 2   Diastolic blood pressure      768 non-null    int64  \n",
      " 3   Triceps skin fold thickness   768 non-null    int64  \n",
      " 4   2-Hour serum insulin          768 non-null    int64  \n",
      " 5   Body mass index               768 non-null    float64\n",
      " 6   Age                           768 non-null    int64  \n",
      " 7   Class                         768 non-null    object \n",
      "dtypes: float64(1), int64(6), object(1)\n",
      "memory usage: 48.1+ KB\n"
     ]
    }
   ],
   "source": [
    "diabetes.info()"
   ]
  },
  {
   "cell_type": "markdown",
   "metadata": {},
   "source": [
    "## Convert Target String to Numbers\n",
    "Because our computer only recognize numbers "
   ]
  },
  {
   "cell_type": "code",
   "execution_count": 175,
   "metadata": {},
   "outputs": [
    {
     "name": "stdout",
     "output_type": "stream",
     "text": [
      "[1 0 1 0 1 0 1 0 1 1]\n"
     ]
    }
   ],
   "source": [
    "y_targets = np.where(y_targets == 'negative', 0, 1)\n",
    "\n",
    "# show the first 10 examples.\n",
    "print (y_targets[:10])"
   ]
  },
  {
   "cell_type": "markdown",
   "metadata": {},
   "source": [
    "## Normalization convert all input to range (-1, 1)"
   ]
  },
  {
   "cell_type": "code",
   "execution_count": 176,
   "metadata": {},
   "outputs": [],
   "source": [
    "sc = StandardScaler()\n",
    "x_features = sc.fit_transform(x_features)"
   ]
  },
  {
   "cell_type": "markdown",
   "metadata": {},
   "source": [
    "## Custom DataLoader"
   ]
  },
  {
   "cell_type": "code",
   "execution_count": 177,
   "metadata": {},
   "outputs": [],
   "source": [
    "class CustomDataset(Dataset):\n",
    "    def __init__(self, x, y):\n",
    "        self.x = x \n",
    "        self.y = y\n",
    "    \n",
    "    def __getitem__(self, index):\n",
    "        return self.x[index], self.y[index]\n",
    "    \n",
    "    def __len__(self):\n",
    "        return len(self.x)"
   ]
  },
  {
   "cell_type": "markdown",
   "metadata": {},
   "source": [
    "## Split data into train and validation set"
   ]
  },
  {
   "cell_type": "code",
   "execution_count": 178,
   "metadata": {},
   "outputs": [],
   "source": [
    "# Convert data into tensor\n",
    "x_features = torch.tensor(x_features)\n",
    "y_targets = torch.tensor(y_targets)\n",
    "\n",
    "dataset = CustomDataset(x_features, y_targets)\n",
    "\n",
    "# 70 % for training and the rest for testing\n",
    "train_dataset_length = int(len(dataset) * 0.7)\n",
    "\n",
    "split_length = [train_dataset_length, len(dataset) - train_dataset_length]\n",
    "\n",
    "train_dataset, val_dataset = torch.utils.data.random_split(dataset, split_length)\n",
    "\n",
    "train_loader = torch.utils.data.DataLoader(dataset=train_dataset, \n",
    "                                           batch_size=32,\n",
    "                                           shuffle=True)\n",
    " \n",
    "# no need to shuffle val dataset\n",
    "validation_loader = torch.utils.data.DataLoader(dataset=val_dataset, \n",
    "                                              batch_size=32)"
   ]
  },
  {
   "cell_type": "code",
   "execution_count": 179,
   "metadata": {},
   "outputs": [],
   "source": [
    "class Model(nn.Module):\n",
    "    def __init__(self, in_features):\n",
    "        super().__init__()\n",
    "        self.hidden_0 = nn.Sequential(\n",
    "            nn.Linear(in_features, 10),\n",
    "            nn.Tanh()\n",
    "        )\n",
    "        self.hidden_1 = nn.Sequential(\n",
    "            nn.Linear(10, 5),\n",
    "            nn.Tanh()\n",
    "        )\n",
    "        self.out = nn.Sequential(\n",
    "            nn.Linear(5, 1),\n",
    "            nn.Sigmoid()\n",
    "        )\n",
    "        \n",
    "    def forward(self, x):\n",
    "        x = self.hidden_0(x)\n",
    "        x = self.hidden_1(x)\n",
    "        x = self.out(x)\n",
    "        return x"
   ]
  },
  {
   "cell_type": "code",
   "execution_count": 180,
   "metadata": {},
   "outputs": [],
   "source": [
    "device = 'cpu'\n",
    "if torch.cuda.is_available():\n",
    "    device = torch.device('cuda')\n",
    "model = Model(x_features.shape[1]).to(device)\n",
    "learning_rate = 0.01\n",
    "criterion = torch.nn.BCELoss()\n",
    "optimizer = torch.optim.SGD(model.parameters(), \n",
    "                            lr=learning_rate,\n",
    "                             momentum=0.9)"
   ]
  },
  {
   "cell_type": "code",
   "execution_count": 181,
   "metadata": {},
   "outputs": [
    {
     "name": "stdout",
     "output_type": "stream",
     "text": [
      "epoch : 1\n",
      "Trian set: Accuracy: 336.0/537 (63%), Average Loss: 0.680566\n",
      "Valid set: Accuracy: 149.0/231 (65%), Average Loss: 0.305774\n",
      "epoch : 2\n",
      "Trian set: Accuracy: 348.0/537 (65%), Average Loss: 0.656224\n",
      "Valid set: Accuracy: 152.0/231 (66%), Average Loss: 0.303921\n",
      "epoch : 3\n",
      "Trian set: Accuracy: 349.0/537 (65%), Average Loss: 0.634072\n",
      "Valid set: Accuracy: 152.0/231 (66%), Average Loss: 0.308421\n",
      "epoch : 4\n",
      "Trian set: Accuracy: 349.0/537 (65%), Average Loss: 0.611354\n",
      "Valid set: Accuracy: 155.0/231 (67%), Average Loss: 0.259142\n",
      "epoch : 5\n",
      "Trian set: Accuracy: 370.0/537 (69%), Average Loss: 0.584348\n",
      "Valid set: Accuracy: 164.0/231 (71%), Average Loss: 0.270639\n",
      "epoch : 6\n",
      "Trian set: Accuracy: 398.0/537 (74%), Average Loss: 0.554894\n",
      "Valid set: Accuracy: 172.0/231 (74%), Average Loss: 0.256667\n",
      "epoch : 7\n",
      "Trian set: Accuracy: 411.0/537 (77%), Average Loss: 0.527289\n",
      "Valid set: Accuracy: 175.0/231 (76%), Average Loss: 0.225648\n",
      "epoch : 8\n",
      "Trian set: Accuracy: 411.0/537 (77%), Average Loss: 0.506695\n",
      "Valid set: Accuracy: 176.0/231 (76%), Average Loss: 0.169529\n",
      "epoch : 9\n",
      "Trian set: Accuracy: 408.0/537 (76%), Average Loss: 0.499122\n",
      "Valid set: Accuracy: 177.0/231 (77%), Average Loss: 0.355046\n",
      "epoch : 10\n",
      "Trian set: Accuracy: 413.0/537 (77%), Average Loss: 0.487220\n",
      "Valid set: Accuracy: 177.0/231 (77%), Average Loss: 0.172733\n",
      "epoch : 11\n",
      "Trian set: Accuracy: 416.0/537 (77%), Average Loss: 0.488465\n",
      "Valid set: Accuracy: 174.0/231 (75%), Average Loss: 0.358671\n",
      "epoch : 12\n",
      "Trian set: Accuracy: 415.0/537 (77%), Average Loss: 0.480384\n",
      "Valid set: Accuracy: 172.0/231 (74%), Average Loss: 0.155352\n",
      "epoch : 13\n",
      "Trian set: Accuracy: 417.0/537 (78%), Average Loss: 0.479901\n",
      "Valid set: Accuracy: 172.0/231 (74%), Average Loss: 0.196905\n",
      "epoch : 14\n",
      "Trian set: Accuracy: 414.0/537 (77%), Average Loss: 0.476752\n",
      "Valid set: Accuracy: 172.0/231 (74%), Average Loss: 0.150043\n",
      "epoch : 15\n",
      "Trian set: Accuracy: 416.0/537 (77%), Average Loss: 0.476931\n",
      "Valid set: Accuracy: 173.0/231 (75%), Average Loss: 0.195076\n",
      "epoch : 16\n",
      "Trian set: Accuracy: 416.0/537 (77%), Average Loss: 0.477759\n",
      "Valid set: Accuracy: 173.0/231 (75%), Average Loss: 0.233910\n",
      "epoch : 17\n",
      "Trian set: Accuracy: 411.0/537 (77%), Average Loss: 0.477816\n",
      "Valid set: Accuracy: 173.0/231 (75%), Average Loss: 0.217416\n",
      "epoch : 18\n",
      "Trian set: Accuracy: 416.0/537 (77%), Average Loss: 0.473326\n",
      "Valid set: Accuracy: 173.0/231 (75%), Average Loss: 0.218086\n",
      "epoch : 19\n",
      "Trian set: Accuracy: 416.0/537 (77%), Average Loss: 0.472499\n",
      "Valid set: Accuracy: 172.0/231 (74%), Average Loss: 0.196195\n",
      "epoch : 20\n",
      "Trian set: Accuracy: 417.0/537 (78%), Average Loss: 0.475430\n",
      "Valid set: Accuracy: 174.0/231 (75%), Average Loss: 0.337285\n"
     ]
    }
   ],
   "source": [
    "epochs = 20\n",
    "train_epoch_loss_history = []\n",
    "val_epoch_loss_hisotry = []\n",
    "\n",
    "train_epoch_accuracy = []\n",
    "val_epoch_accuracy = []\n",
    "\n",
    "for e in range(epochs):\n",
    "\n",
    "    train_corrects = 0.0 \n",
    "    train_batch_loss = 0.0\n",
    "    train_epoch_loss = 0.0\n",
    "    val_corrects = 0.0\n",
    "    val_epoch_loss = 0.0\n",
    "    \n",
    "    for inputs, labels in train_loader:\n",
    "        inputs = inputs.float().to(device)\n",
    "        labels = labels.float().to(device)\n",
    "        outputs = model(inputs).squeeze(1)\n",
    "        loss = criterion(outputs, labels)\n",
    "\n",
    "        optimizer.zero_grad()\n",
    "        loss.backward()\n",
    "        optimizer.step()\n",
    "\n",
    "        # Return 1 if output > 0.5 \n",
    "        # Return 0 if output <= 0.5\n",
    "        preds = (outputs>0.5).float()\n",
    "        \n",
    "        train_epoch_loss  += loss.item() \n",
    "        train_corrects += (preds == labels).sum().item()\n",
    "\n",
    "    else:\n",
    "        train_accuracy = 100. * train_corrects / len(train_loader.dataset)\n",
    "        train_epoch_accuracy.append(train_accuracy)\n",
    "        batch_idx = len(train_loader.dataset) / 32\n",
    "        train_epoch_loss /= batch_idx\n",
    "        train_epoch_loss_history.append(train_epoch_loss)\n",
    "\n",
    "        print('epoch :', (e+1))\n",
    "        print('Trian set: Accuracy: {}/{} ({:.0f}%), Average Loss: {:.6f}'.format(\n",
    "                train_corrects, len(train_loader.dataset),\n",
    "                train_accuracy, train_epoch_loss))\n",
    "    \n",
    "        # torch.no_grad deactivate the auograd engine, \n",
    "        # reduce memory usage and speed up computations\n",
    "        with torch.no_grad():\n",
    "            for val_inputs, val_labels in validation_loader:\n",
    "                val_inputs = val_inputs.float().to(device)\n",
    "                val_labels = val_labels.float().to(device)\n",
    "                val_outputs = model(val_inputs).squeeze(1)             \n",
    "                val_loss = criterion(outputs, labels)\n",
    "\n",
    "                val_preds = (val_outputs>0.5).float()\n",
    "                val_epoch_loss += val_loss.item()\n",
    "                val_corrects += (val_preds == val_labels).sum().item()\n",
    "        \n",
    "        val_accuracy = 100. * val_corrects / len(validation_loader.dataset)\n",
    "        val_epoch_accuracy.append(val_accuracy)\n",
    "        val_epoch_loss /= batch_idx\n",
    "        val_epoch_loss_hisotry.append(val_epoch_loss)\n",
    "\n",
    "        print('Valid set: Accuracy: {}/{} ({:.0f}%), Average Loss: {:.6f}'.format(\n",
    "                val_corrects, len(validation_loader.dataset),\n",
    "                val_accuracy, val_epoch_loss))\n",
    "        "
   ]
  },
  {
   "cell_type": "code",
   "execution_count": 186,
   "metadata": {},
   "outputs": [
    {
     "data": {
      "image/png": "[encoded data removed]",
      "text/plain": [
       "<Figure size 432x288 with 1 Axes>"
      ]
     },
     "metadata": {
      "needs_background": "light"
     },
     "output_type": "display_data"
    }
   ],
   "source": [
    "plt.plot(train_epoch_loss_history, label='training loss')\n",
    "plt.plot(val_epoch_loss_hisotry, label='validation loss')\n",
    "plt.legend()\n",
    "plt.show()"
   ]
  },
  {
   "cell_type": "code",
   "execution_count": 187,
   "metadata": {},
   "outputs": [
    {
     "data": {
      "image/png": "[encoded data removed]",
      "text/plain": [
       "<Figure size 432x288 with 1 Axes>"
      ]
     },
     "metadata": {
      "needs_background": "light"
     },
     "output_type": "display_data"
    }
   ],
   "source": [
    "plt.plot(train_epoch_accuracy, label='training accuracy')\n",
    "plt.plot(val_epoch_accuracy, label='validation accuracy')\n",
    "plt.legend()\n",
    "plt.savefig(\"accuracy comparision\")\n",
    "plt.show()\n"
   ]
  }
 ],
 "metadata": {
  "kernelspec": {
   "display_name": "Python 3",
   "language": "python",
   "name": "python3"
  },
  "language_info": {
   "codemirror_mode": {
    "name": "ipython",
    "version": 3
   },
   "file_extension": ".py",
   "mimetype": "text/x-python",
   "name": "python",
   "nbconvert_exporter": "python",
   "pygments_lexer": "ipython3",
   "version": "3.8.3"
  }
 },
 "nbformat": 4,
 "nbformat_minor": 4
}
