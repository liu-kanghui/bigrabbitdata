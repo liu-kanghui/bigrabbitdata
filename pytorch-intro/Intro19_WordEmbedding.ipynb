{
 "cells": [
  {
   "cell_type": "markdown",
   "metadata": {},
   "source": [
    "www.bigrabbitdata.com"
   ]
  },
  {
   "cell_type": "markdown",
   "metadata": {},
   "source": [
    "## important"
   ]
  },
  {
   "cell_type": "code",
   "execution_count": 17,
   "metadata": {},
   "outputs": [],
   "source": [
    "import torch\n",
    "from torch import nn"
   ]
  },
  {
   "cell_type": "markdown",
   "metadata": {},
   "source": [
    "## Map each unique word to an uniqe integer"
   ]
  },
  {
   "cell_type": "code",
   "execution_count": 18,
   "metadata": {},
   "outputs": [],
   "source": [
    "# map each unique word to an uniqe integer\n",
    "word_to_idx = {\"Kanghui\": 0, \"is\": 1, \"a\":2, \"good\":3, \"girl\":4}"
   ]
  },
  {
   "cell_type": "code",
   "execution_count": 19,
   "metadata": {},
   "outputs": [
    {
     "name": "stdout",
     "output_type": "stream",
     "text": [
      "tensor([ 0.2476,  0.8029, -0.8743, -0.5926, -1.0005,  0.0818,  0.7871,  1.2519],\n",
      "       grad_fn=<EmbeddingBackward>)\n"
     ]
    }
   ],
   "source": [
    "# Defind the embedding. \n",
    "embeddings = nn.Embedding(5, 8)    # 5 words in vocabulary, embedding size is 8\n",
    "\n",
    "# get the index for the work 'Kanghui'\n",
    "Kanghui_index = torch.tensor(word_to_idx['Kanghui'])\n",
    "embed_kanghui = embeddings(Kanghui_index)\n",
    "print (embed_kanghui)"
   ]
  },
  {
   "cell_type": "code",
   "execution_count": 20,
   "metadata": {},
   "outputs": [
    {
     "name": "stdout",
     "output_type": "stream",
     "text": [
      "tensor([0, 1, 2, 3, 4])\n",
      "tensor([[ 0.2476,  0.8029, -0.8743, -0.5926, -1.0005,  0.0818,  0.7871,  1.2519],\n",
      "        [-0.0497,  0.8289, -1.3579,  0.7531, -0.3492, -0.7852,  0.7412, -1.2337],\n",
      "        [ 0.9984, -0.2338,  1.0809, -0.5303,  0.5613,  0.9074, -0.6958,  0.1478],\n",
      "        [ 0.0069,  1.2749, -1.2883, -2.0458,  0.5173, -0.6142,  1.2101, -1.7319],\n",
      "        [ 0.2583,  0.2048,  0.1291, -0.6999, -0.3557, -0.1726,  0.1691, -0.7118]],\n",
      "       grad_fn=<EmbeddingBackward>)\n"
     ]
    }
   ],
   "source": [
    "all_index = torch.tensor([w for w in range(5)], dtype = torch.long)\n",
    "\n",
    "all_words_embed = embeddings(all_index)\n",
    "print (all_index)\n",
    "print(all_words_embed)"
   ]
  },
  {
   "cell_type": "code",
   "execution_count": null,
   "metadata": {},
   "outputs": [],
   "source": []
  }
 ],
 "metadata": {
  "kernelspec": {
   "display_name": "Python 3",
   "language": "python",
   "name": "python3"
  },
  "language_info": {
   "codemirror_mode": {
    "name": "ipython",
    "version": 3
   },
   "file_extension": ".py",
   "mimetype": "text/x-python",
   "name": "python",
   "nbconvert_exporter": "python",
   "pygments_lexer": "ipython3",
   "version": "3.8.3"
  }
 },
 "nbformat": 4,
 "nbformat_minor": 4
}
